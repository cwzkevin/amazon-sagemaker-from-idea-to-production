{
 "cells": [
  {
   "cell_type": "markdown",
   "id": "575c15ae-ffe0-4d93-84d8-bf96278c0372",
   "metadata": {},
   "source": [
    "# Step 3: Add an ML pipeline\n",
    "\n",
    "In this step you automate our end-to-end ML workflow using [Amazon SageMaker Pipelines](https://aws.amazon.com/sagemaker/pipelines/) and [Amazon SageMaker Model Registry](https://docs.aws.amazon.com/sagemaker/latest/dg/model-registry.html). You make feature engineering re-usable, repeatable, and scaleable using [Amazon SageMaker Feature Store](https://aws.amazon.com/sagemaker/feature-store/).\n",
    "\n",
    "![](img/six-steps-3.png)\n",
    "\n",
    "<div class=\"alert alert-info\"> Make sure you using <code>Data Science 3.0</code> image in Studio for this notebook.</div>"
   ]
  },
  {
   "cell_type": "code",
   "execution_count": 2,
   "id": "6ca42d3f-7231-44cc-83f4-a54c6a7995f4",
   "metadata": {
    "tags": []
   },
   "outputs": [
    {
     "name": "stdout",
     "output_type": "stream",
     "text": [
      "sagemaker.config INFO - Not applying SDK defaults from location: /etc/xdg/sagemaker/config.yaml\n",
      "sagemaker.config INFO - Not applying SDK defaults from location: /root/.config/sagemaker/config.yaml\n"
     ]
    },
    {
     "data": {
      "text/plain": [
       "'2.210.0'"
      ]
     },
     "execution_count": 2,
     "metadata": {},
     "output_type": "execute_result"
    }
   ],
   "source": [
    "import pandas as pd\n",
    "import json\n",
    "import boto3\n",
    "import pathlib\n",
    "import io\n",
    "import sagemaker\n",
    "from time import gmtime, strftime, sleep\n",
    "from sagemaker.deserializers import CSVDeserializer\n",
    "from sagemaker.serializers import CSVSerializer\n",
    "\n",
    "from sagemaker.workflow.pipeline_context import PipelineSession\n",
    "from sagemaker.xgboost.estimator import XGBoost\n",
    "from sagemaker.sklearn.processing import SKLearnProcessor\n",
    "from sagemaker.processing import (\n",
    "    ProcessingInput, \n",
    "    ProcessingOutput, \n",
    "    ScriptProcessor\n",
    ")\n",
    "from sagemaker.inputs import TrainingInput\n",
    "\n",
    "from sagemaker.workflow.pipeline import Pipeline\n",
    "from sagemaker.workflow.steps import (\n",
    "    ProcessingStep, \n",
    "    TrainingStep, \n",
    "    CreateModelStep\n",
    ")\n",
    "from sagemaker.workflow.check_job_config import CheckJobConfig\n",
    "from sagemaker.workflow.parameters import (\n",
    "    ParameterInteger, \n",
    "    ParameterFloat, \n",
    "    ParameterString, \n",
    "    ParameterBoolean\n",
    ")\n",
    "from sagemaker.workflow.clarify_check_step import (\n",
    "    ModelBiasCheckConfig, \n",
    "    ClarifyCheckStep, \n",
    "    ModelExplainabilityCheckConfig\n",
    ")\n",
    "from sagemaker import Model\n",
    "from sagemaker.inputs import CreateModelInput\n",
    "from sagemaker.workflow.model_step import ModelStep\n",
    "from sagemaker.workflow.fail_step import FailStep\n",
    "from sagemaker.workflow.conditions import (\n",
    "    ConditionGreaterThan,\n",
    "    ConditionGreaterThanOrEqualTo\n",
    ")\n",
    "from sagemaker.workflow.pipeline_experiment_config import PipelineExperimentConfig\n",
    "from sagemaker.workflow.properties import PropertyFile\n",
    "from sagemaker.workflow.condition_step import ConditionStep\n",
    "from sagemaker.workflow.functions import (\n",
    "    Join,\n",
    "    JsonGet\n",
    ")\n",
    "from sagemaker.workflow.lambda_step import (\n",
    "    LambdaStep,\n",
    "    LambdaOutput,\n",
    "    LambdaOutputTypeEnum,\n",
    ")\n",
    "from sagemaker.lambda_helper import Lambda\n",
    "\n",
    "from sagemaker.model_metrics import (\n",
    "    MetricsSource, \n",
    "    ModelMetrics, \n",
    "    FileSource\n",
    ")\n",
    "from sagemaker.drift_check_baselines import DriftCheckBaselines\n",
    "from sagemaker.workflow.pipeline_definition_config import PipelineDefinitionConfig \n",
    "from sagemaker.image_uris import retrieve\n",
    "from sagemaker.workflow.function_step import step\n",
    "from sagemaker.workflow.step_outputs import get_step\n",
    "\n",
    "sagemaker.__version__"
   ]
  },
  {
   "cell_type": "code",
   "execution_count": 3,
   "id": "015980fe-d2c9-44d5-aa99-08e49bc50c9f",
   "metadata": {
    "tags": []
   },
   "outputs": [],
   "source": [
    "%load_ext autoreload\n",
    "%autoreload 2"
   ]
  },
  {
   "cell_type": "code",
   "execution_count": 4,
   "id": "313ac5a8-2730-45fd-8bed-1559c422748c",
   "metadata": {
    "tags": []
   },
   "outputs": [
    {
     "name": "stdout",
     "output_type": "stream",
     "text": [
      "Stored variables and their in-db values:\n",
      "baseline_s3_url                     -> 's3://sagemaker-us-east-1-598716374401/from-idea-t\n",
      "bucket_name                         -> 'sagemaker-us-east-1-598716374401'\n",
      "bucket_prefix                       -> 'from-idea-to-prod/xgboost'\n",
      "dataset_file_local_path             -> 'data/bank-additional/bank-additional-full.csv'\n",
      "domain_id                           -> 'd-taruao9by6dl'\n",
      "experiment_name                     -> 'from-idea-to-prod-experiment-06-18-08-59'\n",
      "initialized                         -> True\n",
      "input_s3_url                        -> 's3://sagemaker-us-east-1-598716374401/from-idea-t\n",
      "output_s3_url                       -> 's3://sagemaker-us-east-1-598716374401/from-idea-t\n",
      "region                              -> 'us-east-1'\n",
      "sm_role                             -> 'arn:aws:iam::598716374401:role/service-role/Amazo\n",
      "target_col                          -> 'y'\n",
      "test_s3_url                         -> 's3://sagemaker-us-east-1-598716374401/from-idea-t\n",
      "train_s3_url                        -> 's3://sagemaker-us-east-1-598716374401/from-idea-t\n",
      "training_job_name                   -> 'from-idea-to-prod-training-2024-03-06-21-49-56-70\n",
      "validation_s3_url                   -> 's3://sagemaker-us-east-1-598716374401/from-idea-t\n"
     ]
    }
   ],
   "source": [
    "%store -r \n",
    "\n",
    "%store\n",
    "\n",
    "try:\n",
    "    initialized\n",
    "except NameError:\n",
    "    print(\"+++++++++++++++++++++++++++++++++++++++++++++++++\")\n",
    "    print(\"[ERROR] YOU HAVE TO RUN 00-start-here notebook   \")\n",
    "    print(\"+++++++++++++++++++++++++++++++++++++++++++++++++\")"
   ]
  },
  {
   "cell_type": "markdown",
   "id": "defd6d8b-a230-4bf8-a575-2c6dcff55615",
   "metadata": {},
   "source": [
    "## Set constants"
   ]
  },
  {
   "cell_type": "code",
   "execution_count": 5,
   "id": "152b507e-f512-49c9-9f59-6477133bd118",
   "metadata": {
    "tags": []
   },
   "outputs": [],
   "source": [
    "# Set names of pipeline objects\n",
    "project = \"from-idea-to-prod\"\n",
    "\n",
    "pipeline_name = f\"{project}-pipeline\"\n",
    "pipeline_model_name = f\"{project}-model-xgb\"\n",
    "model_package_group_name = f\"{project}-model-group\"\n",
    "endpoint_config_name = f\"{project}-endpoint-config\"\n",
    "endpoint_name = f\"{project}-endpoint\"\n",
    "model_approval_status = \"PendingManualApproval\""
   ]
  },
  {
   "cell_type": "code",
   "execution_count": 6,
   "id": "c947da3b-e046-4dea-9897-1717c5bbc3a3",
   "metadata": {
    "tags": []
   },
   "outputs": [],
   "source": [
    "# Set instance types and counts\n",
    "process_instance_type = \"ml.c5.xlarge\"\n",
    "process_instance_count = 1\n",
    "train_instance_count = 1\n",
    "train_instance_type = \"ml.m5.xlarge\""
   ]
  },
  {
   "cell_type": "code",
   "execution_count": 7,
   "id": "0e9be066-8452-4058-b50e-e3027cb466b1",
   "metadata": {
    "tags": []
   },
   "outputs": [],
   "source": [
    "# Set S3 urls for processed data\n",
    "output_s3_prefix = f\"s3://{bucket_name}/{bucket_prefix}\"\n",
    "train_s3_url = f\"{output_s3_prefix}/train\"\n",
    "validation_s3_url = f\"{output_s3_prefix}/validation\"\n",
    "test_s3_url = f\"{output_s3_prefix}/test\"\n",
    "baseline_s3_url = f\"{output_s3_prefix}/baseline\"\n",
    "\n",
    "evaluation_s3_url = f\"{output_s3_prefix}/evaluation\"\n",
    "prediction_baseline_s3_url = f\"{output_s3_prefix}/prediction_baseline\"\n",
    "\n",
    "output_s3_url = f\"{output_s3_prefix}/output\""
   ]
  },
  {
   "cell_type": "code",
   "execution_count": 8,
   "id": "f3d649cf-b64c-4978-b3f5-cf767b7f1870",
   "metadata": {
    "tags": []
   },
   "outputs": [
    {
     "name": "stdout",
     "output_type": "stream",
     "text": [
      "Stored 'train_s3_url' (str)\n",
      "Stored 'validation_s3_url' (str)\n",
      "Stored 'test_s3_url' (str)\n",
      "Stored 'baseline_s3_url' (str)\n",
      "Stored 'model_package_group_name' (str)\n",
      "Stored 'evaluation_s3_url' (str)\n",
      "Stored 'prediction_baseline_s3_url' (str)\n",
      "Stored 'output_s3_url' (str)\n"
     ]
    }
   ],
   "source": [
    "%store train_s3_url\n",
    "%store validation_s3_url\n",
    "%store test_s3_url\n",
    "%store baseline_s3_url\n",
    "%store model_package_group_name\n",
    "%store evaluation_s3_url\n",
    "%store prediction_baseline_s3_url\n",
    "%store output_s3_url"
   ]
  },
  {
   "cell_type": "code",
   "execution_count": 9,
   "id": "54b75414-0239-4682-a435-22d646bb16cb",
   "metadata": {
    "tags": []
   },
   "outputs": [
    {
     "name": "stdout",
     "output_type": "stream",
     "text": [
      "Train S3 url: s3://sagemaker-us-east-1-598716374401/from-idea-to-prod/xgboost/train\n",
      "Validation S3 url: s3://sagemaker-us-east-1-598716374401/from-idea-to-prod/xgboost/validation\n",
      "Test S3 url: s3://sagemaker-us-east-1-598716374401/from-idea-to-prod/xgboost/test\n",
      "Data baseline S3 url: s3://sagemaker-us-east-1-598716374401/from-idea-to-prod/xgboost/baseline\n",
      "Evaluation metrics S3 url: s3://sagemaker-us-east-1-598716374401/from-idea-to-prod/xgboost/evaluation\n",
      "Model prediction baseline S3 url: s3://sagemaker-us-east-1-598716374401/from-idea-to-prod/xgboost/prediction_baseline\n"
     ]
    }
   ],
   "source": [
    "print(f\"Train S3 url: {train_s3_url}\")\n",
    "print(f\"Validation S3 url: {validation_s3_url}\")\n",
    "print(f\"Test S3 url: {test_s3_url}\")\n",
    "print(f\"Data baseline S3 url: {baseline_s3_url}\")\n",
    "print(f\"Evaluation metrics S3 url: {evaluation_s3_url}\")\n",
    "print(f\"Model prediction baseline S3 url: {prediction_baseline_s3_url}\")"
   ]
  },
  {
   "cell_type": "markdown",
   "id": "626ea883-3bd9-4947-a0c8-7c3a80c1bbca",
   "metadata": {},
   "source": [
    "## Create a pipeline"
   ]
  },
  {
   "cell_type": "markdown",
   "id": "fa00ef9a-a6fe-4415-9847-bcfa97f32c44",
   "metadata": {},
   "source": [
    "### Setup pipeline parameters\n",
    "SageMaker Pipelines supports [parameterization](https://docs.aws.amazon.com/sagemaker/latest/dg/build-and-manage-parameters.html), which allows you to specify input parameters at runtime without changing your pipeline code. You can use the parameter classes available under the [`sagemaker.workflow.parameters`](https://sagemaker.readthedocs.io/en/stable/workflows/pipelines/sagemaker.workflow.pipelines.html#parameters) module.\n",
    "Parameters have a default value, which you can override by specifying parameter values when starting a pipeline execution."
   ]
  },
  {
   "cell_type": "code",
   "execution_count": 10,
   "id": "05f370b6-1ee3-4bc6-ae85-5eef37878196",
   "metadata": {
    "tags": []
   },
   "outputs": [],
   "source": [
    "# Set processing instance type\n",
    "process_instance_type_param = ParameterString(\n",
    "    name=\"ProcessingInstanceType\",\n",
    "    default_value=process_instance_type,\n",
    ")\n",
    "\n",
    "# Set training instance type\n",
    "train_instance_type_param = ParameterString(\n",
    "    name=\"TrainingInstanceType\",\n",
    "    default_value=train_instance_type,\n",
    ")\n",
    "\n",
    "# Set training instance count\n",
    "train_instance_count_param = ParameterInteger(\n",
    "    name=\"TrainingInstanceCount\",\n",
    "    default_value=train_instance_count\n",
    ")\n",
    "\n",
    "# Set model approval status for the model registry\n",
    "model_approval_status_param = ParameterString(\n",
    "    name=\"ModelApprovalStatus\",\n",
    "    default_value=model_approval_status\n",
    ")\n",
    "\n",
    "# Minimal threshold for model performance on the test dataset\n",
    "test_score_threshold_param = ParameterFloat(\n",
    "    name=\"TestScoreThreshold\", \n",
    "    default_value=0.75\n",
    ")\n",
    "\n",
    "# Parametrize the S3 url for input dataset\n",
    "input_s3_url_param = ParameterString(\n",
    "    name=\"InputDataUrl\",\n",
    "    default_value=input_s3_url,\n",
    ")"
   ]
  },
  {
   "cell_type": "code",
   "execution_count": 11,
   "id": "0bf3312a-c88e-4e52-83bd-c48ab1d45667",
   "metadata": {
    "tags": []
   },
   "outputs": [],
   "source": [
    "skprocessor_framework_version = \"0.23-1\""
   ]
  },
  {
   "cell_type": "markdown",
   "id": "869c3182-d926-4aa5-b8c0-23d7c782f116",
   "metadata": {},
   "source": [
    "### Build the pipeline steps\n",
    "You create a pipeline with the following:\n",
    "| Step | Description |\n",
    "|---|---|\n",
    "| **Data processing** | runs a SageMaker processing job for feature engineering and dataset split|\n",
    "| **Training** | runs a SageMaker training job using XGBoost algorithm |\n",
    "| **Evaluation** | evaluates the performance of the trained model |\n",
    "| **Condition** | checks if the performance of the model meets the specified threshold |\n",
    "| **Register model** | registers a version of the model in the SageMaker model registry |\n",
    "\n",
    "💡 You can use subclass compatibility for [workflow pipeline job steps](https://sagemaker.readthedocs.io/en/stable/workflows/pipelines/sagemaker.workflow.pipelines.html#steps) to build job abstractions and use exactly the same code to configure the pipeline as the code for running processing, training, transform, and tuning jobs from the previous step notebooks. You also can use [PipelineSession](https://sagemaker.readthedocs.io/en/stable/workflows/pipelines/sagemaker.workflow.pipelines.html#sagemaker.workflow.pipeline_context.PipelineSession) context instead of `sagemaker_session` to capture the run calls such as `processor.run()` or `estimator.fit()` but not run until the pipeline is created and executed."
   ]
  },
  {
   "cell_type": "code",
   "execution_count": 12,
   "id": "dbe61a9b-ea0e-45b7-b37f-37684c2d7d04",
   "metadata": {
    "tags": []
   },
   "outputs": [],
   "source": [
    "# Note the usage of PipelineSession instead of Session\n",
    "session = PipelineSession()"
   ]
  },
  {
   "cell_type": "markdown",
   "id": "0f10b118-2985-41a9-b1af-da7111060f68",
   "metadata": {},
   "source": [
    "#### Processing step\n",
    "Re-use the processor definition and `sklearn_processor.run()` code from the step 2 [notebook](./02-sagemaker-containers.ipynb) to create a pipeline processing step."
   ]
  },
  {
   "cell_type": "code",
   "execution_count": 13,
   "id": "f06ecc9b-aeb3-4ade-a0c6-0274cb6064c4",
   "metadata": {
    "tags": []
   },
   "outputs": [
    {
     "name": "stdout",
     "output_type": "stream",
     "text": [
      "Overwriting preprocessing.py\n"
     ]
    }
   ],
   "source": [
    "%%writefile preprocessing.py\n",
    "\n",
    "import pandas as pd\n",
    "import numpy as np\n",
    "import argparse\n",
    "import os\n",
    "\n",
    "def _parse_args():\n",
    "    \n",
    "    parser = argparse.ArgumentParser()\n",
    "    # Data, model, and output directories\n",
    "    # model_dir is always passed in from SageMaker. By default this is a S3 path under the default bucket.\n",
    "    parser.add_argument('--filepath', type=str, default='/opt/ml/processing/input/')\n",
    "    parser.add_argument('--filename', type=str, default='bank-additional-full.csv')\n",
    "    parser.add_argument('--outputpath', type=str, default='/opt/ml/processing/output/')\n",
    "    \n",
    "    return parser.parse_known_args()\n",
    "\n",
    "\n",
    "if __name__==\"__main__\":\n",
    "    # Process arguments\n",
    "    args, _ = _parse_args()\n",
    "    \n",
    "    target_col = \"y\"\n",
    "    \n",
    "    # Load data\n",
    "    df_data = pd.read_csv(os.path.join(args.filepath, args.filename), sep=\";\")\n",
    "\n",
    "    # Indicator variable to capture when pdays takes a value of 999\n",
    "    df_data[\"no_previous_contact\"] = np.where(df_data[\"pdays\"] == 999, 1, 0)\n",
    "\n",
    "    # Indicator for individuals not actively employed\n",
    "    df_data[\"not_working\"] = np.where(\n",
    "        np.in1d(df_data[\"job\"], [\"student\", \"retired\", \"unemployed\"]), 1, 0\n",
    "    )\n",
    "\n",
    "    # remove unnecessary data\n",
    "    df_model_data = df_data.drop(\n",
    "        [\"duration\", \"emp.var.rate\", \"cons.price.idx\", \"cons.conf.idx\", \"euribor3m\", \"nr.employed\"],\n",
    "        axis=1,\n",
    "    )\n",
    "\n",
    "    df_model_data = pd.get_dummies(df_model_data)  # Convert categorical variables to sets of indicators\n",
    "\n",
    "    # Replace \"y_no\" and \"y_yes\" with a single label column, and bring it to the front:\n",
    "    df_model_data = pd.concat(\n",
    "        [\n",
    "            df_model_data[\"y_yes\"].rename(target_col),\n",
    "            df_model_data.drop([\"y_no\", \"y_yes\"], axis=1),\n",
    "        ],\n",
    "        axis=1,\n",
    "    )\n",
    "\n",
    "    # Shuffle and splitting dataset\n",
    "    train_data, validation_data, test_data = np.split(\n",
    "        df_model_data.sample(frac=1, random_state=1729),\n",
    "        [int(0.7 * len(df_model_data)), int(0.9 * len(df_model_data))],\n",
    "    )\n",
    "\n",
    "    print(f\"Data split > train:{train_data.shape} | validation:{validation_data.shape} | test:{test_data.shape}\")\n",
    "    \n",
    "    # Save datasets locally\n",
    "    train_data.to_csv(os.path.join(args.outputpath, 'train/train.csv'), index=False, header=False)\n",
    "    validation_data.to_csv(os.path.join(args.outputpath, 'validation/validation.csv'), index=False, header=False)\n",
    "    test_data[target_col].to_csv(os.path.join(args.outputpath, 'test/test_y.csv'), index=False, header=False)\n",
    "    test_data.drop([target_col], axis=1).to_csv(os.path.join(args.outputpath, 'test/test_x.csv'), index=False, header=False)\n",
    "    \n",
    "    # Save the baseline dataset for model monitoring\n",
    "    df_model_data.drop([target_col], axis=1).to_csv(os.path.join(args.outputpath, 'baseline/baseline.csv'), index=False, header=False)\n",
    "    \n",
    "    print(\"## Processing complete. Exiting.\")"
   ]
  },
  {
   "cell_type": "code",
   "execution_count": 14,
   "id": "664feff0-e1e6-4b4e-bcea-d31617725bf5",
   "metadata": {
    "tags": []
   },
   "outputs": [
    {
     "name": "stderr",
     "output_type": "stream",
     "text": [
      "WARNING:sagemaker.workflow.utilities:The input argument instance_type of function (sagemaker.image_uris.retrieve) is a pipeline variable (<class 'sagemaker.workflow.parameters.ParameterString'>), which is interpreted in pipeline execution time only. As the function needs to evaluate the argument value in SDK compile time, the default_value of this Parameter object will be used to override it. Please make sure the default_value is valid.\n",
      "INFO:sagemaker.image_uris:Defaulting to only available Python version: py3\n"
     ]
    }
   ],
   "source": [
    "sklearn_processor = SKLearnProcessor(\n",
    "        framework_version=skprocessor_framework_version,\n",
    "        role=sm_role,\n",
    "        instance_type=process_instance_type_param,\n",
    "        instance_count=process_instance_count,\n",
    "        base_job_name=f\"{pipeline_name}-preprocess\",\n",
    "        sagemaker_session=session,\n",
    "    )\n",
    "    \n",
    "processing_inputs=[\n",
    "    ProcessingInput(\n",
    "        source=input_s3_url_param, \n",
    "        destination=\"/opt/ml/processing/input\"\n",
    "    )\n",
    "]\n",
    "\n",
    "processing_outputs=[\n",
    "    ProcessingOutput(\n",
    "        output_name=\"train_data\",\n",
    "        source=\"/opt/ml/processing/output/train\", \n",
    "        destination=train_s3_url\n",
    "    ),\n",
    "    ProcessingOutput(\n",
    "        output_name=\"validation_data\",\n",
    "        source=\"/opt/ml/processing/output/validation\",\n",
    "        destination=validation_s3_url\n",
    "    ),\n",
    "    ProcessingOutput(\n",
    "        output_name=\"test_data\", \n",
    "        source=\"/opt/ml/processing/output/test\",\n",
    "        destination=test_s3_url\n",
    "    ),\n",
    "    ProcessingOutput(\n",
    "        output_name=\"baseline_data\",\n",
    "        source=\"/opt/ml/processing/output/baseline\", \n",
    "        destination=baseline_s3_url\n",
    "    ),\n",
    "]"
   ]
  },
  {
   "cell_type": "code",
   "execution_count": 15,
   "id": "f82fca0c-fa72-4e43-b4a3-ba07d14c1389",
   "metadata": {
    "tags": []
   },
   "outputs": [
    {
     "name": "stderr",
     "output_type": "stream",
     "text": [
      "/opt/conda/lib/python3.10/site-packages/sagemaker/workflow/pipeline_context.py:332: UserWarning: Running within a PipelineSession, there will be No Wait, No Logs, and No Job being started.\n",
      "  warnings.warn(\n"
     ]
    }
   ],
   "source": [
    "processor_args = sklearn_processor.run(\n",
    "    inputs=processing_inputs,\n",
    "    outputs=processing_outputs,\n",
    "    code='preprocessing.py',\n",
    "    # arguments = ['arg1', 'arg2'],\n",
    ")\n",
    "    \n",
    "# Define processing step\n",
    "step_process = ProcessingStep(\n",
    "    name=f\"{pipeline_name}-preprocess\",\n",
    "    step_args=processor_args,\n",
    ")"
   ]
  },
  {
   "cell_type": "markdown",
   "id": "21faa341-c920-47fc-bf79-1453f7982f95",
   "metadata": {},
   "source": [
    "#### Training step\n",
    "Re-use the estimator definition and hyperparameters setup code from the step 2 [notebook](./02-sagemaker-containers.ipynb) to create a model training pipeline step."
   ]
  },
  {
   "cell_type": "code",
   "execution_count": 16,
   "id": "3f1ae5fa-af26-46a1-9287-e0d35780ffa4",
   "metadata": {
    "tags": []
   },
   "outputs": [
    {
     "name": "stderr",
     "output_type": "stream",
     "text": [
      "INFO:sagemaker.image_uris:Ignoring unnecessary instance type: None.\n"
     ]
    }
   ],
   "source": [
    "xgboost_image_uri = sagemaker.image_uris.retrieve(\"xgboost\", region=region, version=\"1.5-1\")"
   ]
  },
  {
   "cell_type": "code",
   "execution_count": 17,
   "id": "b06f8317-4758-420a-b8e9-1a3e23ed3493",
   "metadata": {
    "tags": []
   },
   "outputs": [],
   "source": [
    "# Instantiate an XGBoost estimator object\n",
    "estimator = sagemaker.estimator.Estimator(\n",
    "    image_uri=xgboost_image_uri,\n",
    "    role=sm_role, \n",
    "    instance_type=train_instance_type_param,\n",
    "    instance_count=train_instance_count_param,\n",
    "    output_path=output_s3_url,\n",
    "    sagemaker_session=session,\n",
    "    base_job_name=f\"{pipeline_name}-train\",\n",
    ")\n",
    "\n",
    "# Define algorithm hyperparameters\n",
    "estimator.set_hyperparameters(\n",
    "    num_round=150, # the number of rounds to run the training\n",
    "    max_depth=5, # maximum depth of a tree\n",
    "    eta=0.5, # step size shrinkage used in updates to prevent overfitting\n",
    "    alpha=2.5, # L1 regularization term on weights\n",
    "    objective=\"binary:logistic\",\n",
    "    eval_metric=\"auc\", # evaluation metrics for validation data\n",
    "    subsample=0.8, # subsample ratio of the training instance\n",
    "    colsample_bytree=0.8, # subsample ratio of columns when constructing each tree\n",
    "    min_child_weight=3, # minimum sum of instance weight (hessian) needed in a child\n",
    "    early_stopping_rounds=10, # the model trains until the validation score stops improving\n",
    "    verbosity=1, # verbosity of printing messages\n",
    ")\n",
    "\n",
    "training_inputs = {\n",
    "    \"train\": TrainingInput(\n",
    "        s3_data=step_process.properties.ProcessingOutputConfig.Outputs[\n",
    "            \"train_data\"\n",
    "        ].S3Output.S3Uri,\n",
    "        content_type=\"text/csv\",\n",
    "    ),\n",
    "    \"validation\": TrainingInput(\n",
    "        s3_data=step_process.properties.ProcessingOutputConfig.Outputs[\n",
    "            \"validation_data\"\n",
    "        ].S3Output.S3Uri,\n",
    "        content_type=\"text/csv\",\n",
    "    ),\n",
    "}\n",
    "\n",
    "training_args = estimator.fit(training_inputs)\n",
    "\n",
    "# Define training step\n",
    "step_train = TrainingStep(\n",
    "    name=f\"{pipeline_name}-train\",\n",
    "    step_args=training_args\n",
    ")"
   ]
  },
  {
   "cell_type": "markdown",
   "id": "b97f365c-94c4-4403-8a8c-b79399b3d665",
   "metadata": {},
   "source": [
    "#### Evaluation step\n",
    "Create a model evaluation script to check if the model performance meets the specified threshold. "
   ]
  },
  {
   "cell_type": "code",
   "execution_count": 18,
   "id": "d8b40bf5-c2f1-4a09-9f85-a5d9728ad563",
   "metadata": {
    "tags": []
   },
   "outputs": [
    {
     "name": "stdout",
     "output_type": "stream",
     "text": [
      "Writing evaluation.py\n"
     ]
    }
   ],
   "source": [
    "%%writefile evaluation.py\n",
    "\n",
    "import json\n",
    "import os\n",
    "import pathlib\n",
    "import pickle as pkl\n",
    "import tarfile\n",
    "import joblib\n",
    "import numpy as np\n",
    "import pandas as pd\n",
    "import xgboost as xgb\n",
    "import datetime as dt\n",
    "from sklearn.metrics import roc_curve, auc\n",
    "\n",
    "if __name__ == \"__main__\":   \n",
    "    \n",
    "    # All paths are local for the processing container\n",
    "    model_path = \"/opt/ml/processing/model/model.tar.gz\"\n",
    "    test_x_path = \"/opt/ml/processing/test/test_x.csv\"\n",
    "    test_y_path = \"/opt/ml/processing/test/test_y.csv\"\n",
    "    output_dir = \"/opt/ml/processing/evaluation\"\n",
    "    output_prediction_path = \"/opt/ml/processing/output/\"\n",
    "        \n",
    "    # Read model tar file\n",
    "    with tarfile.open(model_path, \"r:gz\") as t:\n",
    "        t.extractall(path=\".\")\n",
    "    \n",
    "    # Load model\n",
    "    model = xgb.Booster()\n",
    "    model.load_model(\"xgboost-model\")\n",
    "    \n",
    "    # Read test data\n",
    "    X_test = xgb.DMatrix(pd.read_csv(test_x_path, header=None).values)\n",
    "    y_test = pd.read_csv(test_y_path, header=None).to_numpy()\n",
    "\n",
    "    # Run predictions\n",
    "    probability = model.predict(X_test)\n",
    "\n",
    "    # Evaluate predictions\n",
    "    fpr, tpr, thresholds = roc_curve(y_test, probability)\n",
    "    auc_score = auc(fpr, tpr)\n",
    "    report_dict = {\n",
    "        \"classification_metrics\": {\n",
    "            \"auc_score\": {\n",
    "                \"value\": auc_score,\n",
    "            },\n",
    "        },\n",
    "    }\n",
    "\n",
    "    # Save evaluation report\n",
    "    pathlib.Path(output_dir).mkdir(parents=True, exist_ok=True)\n",
    "    with open(f\"{output_dir}/evaluation.json\", \"w\") as f:\n",
    "        f.write(json.dumps(report_dict))\n",
    "    \n",
    "    # Save prediction baseline file - we need it later for the model quality monitoring\n",
    "    pd.DataFrame({\"prediction\":np.array(np.round(probability), dtype=int),\n",
    "                  \"probability\":probability,\n",
    "                  \"label\":y_test.squeeze()}\n",
    "                ).to_csv(os.path.join(output_prediction_path, 'prediction_baseline/prediction_baseline.csv'), index=False, header=True)"
   ]
  },
  {
   "cell_type": "markdown",
   "id": "220ce484-22bf-42e3-9a13-d5699467242a",
   "metadata": {},
   "source": [
    "Create a processor to run the evaluation script and construct the evaluation step:"
   ]
  },
  {
   "cell_type": "code",
   "execution_count": 20,
   "id": "f8bb4df0-6457-4480-8a40-a646173e7c68",
   "metadata": {
    "tags": []
   },
   "outputs": [],
   "source": [
    "script_processor = ScriptProcessor(\n",
    "    image_uri=xgboost_image_uri,\n",
    "    role=sm_role,\n",
    "    command=[\"python3\"],\n",
    "    instance_type=process_instance_type_param,\n",
    "    instance_count=process_instance_count,\n",
    "    base_job_name=f\"{pipeline_name}-evaluate\",\n",
    "    sagemaker_session=session,\n",
    ")\n",
    "\n",
    "eval_inputs=[\n",
    "    ProcessingInput(source=step_train.properties.ModelArtifacts.S3ModelArtifacts, \n",
    "                    destination=\"/opt/ml/processing/model\"),\n",
    "    ProcessingInput(source=step_process.properties.ProcessingOutputConfig.Outputs[\"test_data\"].S3Output.S3Uri, \n",
    "                    destination=\"/opt/ml/processing/test\"),\n",
    "]\n",
    "\n",
    "eval_outputs=[\n",
    "    ProcessingOutput(output_name=\"evaluation\", source=\"/opt/ml/processing/evaluation\", \n",
    "                     destination=evaluation_s3_url),\n",
    "    ProcessingOutput(output_name=\"prediction_baseline_data\", source=\"/opt/ml/processing/output/prediction_baseline\", \n",
    "                     destination=prediction_baseline_s3_url),\n",
    "]\n",
    "\n",
    "eval_args = script_processor.run(\n",
    "    inputs=eval_inputs,\n",
    "    outputs=eval_outputs,\n",
    "    code=\"evaluation.py\",\n",
    ")\n",
    "    \n",
    "evaluation_report = PropertyFile(\n",
    "    name=\"ModelEvaluationReport\", output_name=\"evaluation\", path=\"evaluation.json\"\n",
    ")\n",
    "\n",
    "step_eval = ProcessingStep(\n",
    "    name=f\"{pipeline_name}-evaluate\",\n",
    "    step_args=eval_args,\n",
    "    property_files=[evaluation_report]\n",
    ")"
   ]
  },
  {
   "cell_type": "markdown",
   "id": "e5b0157d-f99b-4548-9de7-7188f62369c8",
   "metadata": {},
   "source": [
    "Use [property files](https://docs.aws.amazon.com/sagemaker/latest/dg/build-and-manage-propertyfile.html) to store information from the output of a processing step. This is particularly useful when analyzing the results of a processing step to decide how a conditional step should be executed. The `JsonGet` function processes a property file and enables you to use [`JsonPath`](https://github.com/json-path/JsonPath) notation to query the property JSON file."
   ]
  },
  {
   "cell_type": "markdown",
   "id": "c93a5348-9c06-416a-a4b2-0c83e4ea34f4",
   "metadata": {},
   "source": [
    "#### Register step\n",
    "The register step creates a SageMaker model and registers a new version of a model in the SageMaker Model Registry within a [model package group](https://docs.aws.amazon.com/sagemaker/latest/dg/model-registry-model-group.html)."
   ]
  },
  {
   "cell_type": "code",
   "execution_count": 21,
   "id": "22f94ac1-5b7b-41ea-bfef-d836efb8b6bb",
   "metadata": {
    "tags": []
   },
   "outputs": [
    {
     "name": "stderr",
     "output_type": "stream",
     "text": [
      "WARNING:sagemaker.workflow.utilities:Popping out 'ProcessingJobName' from the pipeline definition by default since it will be overridden at pipeline execution time. Please utilize the PipelineDefinitionConfig to persist this field in the pipeline definition if desired.\n"
     ]
    }
   ],
   "source": [
    "model = Model(\n",
    "    image_uri=xgboost_image_uri,        \n",
    "    model_data=step_train.properties.ModelArtifacts.S3ModelArtifacts,\n",
    "    name=f\"from-idea-to-prod-xgboost-model\",\n",
    "    sagemaker_session=session,\n",
    "    role=sm_role,\n",
    ")\n",
    "\n",
    "model_metrics = ModelMetrics(\n",
    "    model_statistics=MetricsSource(\n",
    "        s3_uri=\"{}/evaluation.json\".format(\n",
    "            step_eval.arguments[\"ProcessingOutputConfig\"][\"Outputs\"][0][\"S3Output\"][\"S3Uri\"]\n",
    "        ),\n",
    "        content_type=\"application/json\",\n",
    "    )\n",
    ")\n",
    "\n",
    "register_args = model.register(\n",
    "    content_types=[\"text/csv\"],\n",
    "    response_types=[\"text/csv\"],\n",
    "    inference_instances=[\"ml.t2.medium\", \"ml.m5.xlarge\", \"ml.m5.large\"],\n",
    "    transform_instances=[\"ml.m5.xlarge\", \"ml.m5.large\"],\n",
    "    model_package_group_name=model_package_group_name,\n",
    "    approval_status=model_approval_status_param,\n",
    "    model_metrics=model_metrics,\n",
    ")\n",
    "\n",
    "step_register = ModelStep(\n",
    "    name=f\"{pipeline_name}-register\",\n",
    "    step_args=register_args\n",
    ")"
   ]
  },
  {
   "cell_type": "markdown",
   "id": "494111e4-0649-49aa-984b-f9001324cddc",
   "metadata": {},
   "source": [
    "#### Fail step\n",
    "Add a Pipelines [FailStep](https://sagemaker.readthedocs.io/en/stable/workflows/pipelines/sagemaker.workflow.pipelines.html#sagemaker.workflow.fail_step.FailStep) to stop the pipeline execution if the model performance metric doesn't meet the specified threshold. "
   ]
  },
  {
   "cell_type": "code",
   "execution_count": 22,
   "id": "84156042-8711-4993-a12b-0020d199630e",
   "metadata": {
    "tags": []
   },
   "outputs": [],
   "source": [
    "step_fail = FailStep(\n",
    "    name=f\"{pipeline_name}-fail\",\n",
    "    error_message=Join(on=\" \", values=[\"Execution failed due to AUC Score >\", test_score_threshold_param]),\n",
    ")"
   ]
  },
  {
   "cell_type": "markdown",
   "id": "51c6c5db-33f7-4ec7-b662-b574f65c3b83",
   "metadata": {},
   "source": [
    "#### Condition step\n",
    "The last step to add is a condition step. The condition step checks the model performance score calculated in the evaluation step and conditionally creates a model and registers it in the model registry, or stops and fails the pipeline execution."
   ]
  },
  {
   "cell_type": "code",
   "execution_count": 23,
   "id": "64d15f83-cec9-4451-92c1-1f75f6db49eb",
   "metadata": {
    "tags": []
   },
   "outputs": [],
   "source": [
    "cond_lte = ConditionGreaterThan(\n",
    "    left=JsonGet(\n",
    "        step_name=step_eval.name,\n",
    "        property_file=evaluation_report,\n",
    "        json_path=\"classification_metrics.auc_score.value\",\n",
    "    ),\n",
    "    right=test_score_threshold_param,\n",
    ")\n",
    "\n",
    "step_cond = ConditionStep(\n",
    "    name=f\"{pipeline_name}-check-test-score\",\n",
    "    conditions=[cond_lte],\n",
    "    if_steps=[step_register],\n",
    "    else_steps=[step_fail],\n",
    ")"
   ]
  },
  {
   "cell_type": "markdown",
   "id": "79095789-64d7-47b5-952c-d70b8500ed0c",
   "metadata": {},
   "source": [
    "### Construct a pipeline \n",
    "Having all steps, you can now constract an end-to-end pipeline.\n",
    "You don't need to manually define a sequence of the steps, as SageMaker automatically derives the processing flow based on data dependencies between pipeline's steps. You also don't need to manage transfer of artifacts and datasets from one pipeline's step to another, because SageMaker automatically takes care of the data flow.\n",
    "\n",
    "Pipelines are integrated with SageMaker Experiments. By default, when SageMaker Pipelines creates and executes a pipeline, the following SageMaker Experiments entities are created if they don't exist:\n",
    "\n",
    "- An experiment for the pipeline. Experiment name is the name of the pipeline\n",
    "- A run group for every execution of the pipeline\n",
    "- A run that's added to the run group for each SageMaker job created in a pipeline execution step\n",
    "\n",
    "Refer to the [Developer Guide](https://docs.aws.amazon.com/sagemaker/latest/dg/pipelines-experiments.html) for more details on experiment integration."
   ]
  },
  {
   "cell_type": "code",
   "execution_count": 24,
   "id": "114e7177-84bf-4271-9036-7af3d640daba",
   "metadata": {
    "tags": []
   },
   "outputs": [],
   "source": [
    "pipeline_def_config = PipelineDefinitionConfig(use_custom_job_prefix=True)\n",
    "\n",
    "pipeline = Pipeline(\n",
    "    name=pipeline_name,\n",
    "    parameters=[\n",
    "        process_instance_type_param,\n",
    "        train_instance_type_param,\n",
    "        train_instance_count_param,\n",
    "        model_approval_status_param,\n",
    "        test_score_threshold_param,\n",
    "        input_s3_url_param,\n",
    "    ],\n",
    "    steps=[step_process, step_train, step_eval, step_cond],\n",
    "    sagemaker_session=session,\n",
    "    pipeline_definition_config=pipeline_def_config\n",
    ")"
   ]
  },
  {
   "cell_type": "markdown",
   "id": "2f3608ce-fcab-4e89-be8f-07a060675e14",
   "metadata": {
    "tags": []
   },
   "source": [
    "Based on the data dependencies between the pipeline's steps, SageMaker builds the following DAG with the data flow in your pipeline:\n",
    "![](img/pipeline-graph.png)"
   ]
  },
  {
   "cell_type": "code",
   "execution_count": 25,
   "id": "b44b8030-aea8-45bb-a4b1-f20b09df7a76",
   "metadata": {
    "tags": []
   },
   "outputs": [
    {
     "name": "stderr",
     "output_type": "stream",
     "text": [
      "WARNING:sagemaker.workflow._utils:Popping out 'CertifyForMarketplace' from the pipeline definition since it will be overridden in pipeline execution time.\n"
     ]
    },
    {
     "data": {
      "text/plain": [
       "{'PipelineArn': 'arn:aws:sagemaker:us-east-1:598716374401:pipeline/from-idea-to-prod-pipeline',\n",
       " 'ResponseMetadata': {'RequestId': '6a4eb603-a342-42f1-a862-ba1baefcf306',\n",
       "  'HTTPStatusCode': 200,\n",
       "  'HTTPHeaders': {'x-amzn-requestid': '6a4eb603-a342-42f1-a862-ba1baefcf306',\n",
       "   'content-type': 'application/x-amz-json-1.1',\n",
       "   'content-length': '94',\n",
       "   'date': 'Thu, 07 Mar 2024 03:12:07 GMT'},\n",
       "  'RetryAttempts': 0}}"
      ]
     },
     "execution_count": 25,
     "metadata": {},
     "output_type": "execute_result"
    }
   ],
   "source": [
    "# Create a new or update existing Pipeline\n",
    "pipeline.upsert(role_arn=sm_role)"
   ]
  },
  {
   "cell_type": "code",
   "execution_count": 26,
   "id": "81d05813-b615-463b-9b90-67f45c9444cb",
   "metadata": {
    "tags": []
   },
   "outputs": [
    {
     "data": {
      "text/plain": [
       "{'Version': '2020-12-01',\n",
       " 'Metadata': {},\n",
       " 'Parameters': [{'Name': 'ProcessingInstanceType',\n",
       "   'Type': 'String',\n",
       "   'DefaultValue': 'ml.c5.xlarge'},\n",
       "  {'Name': 'TrainingInstanceType',\n",
       "   'Type': 'String',\n",
       "   'DefaultValue': 'ml.m5.xlarge'},\n",
       "  {'Name': 'TrainingInstanceCount', 'Type': 'Integer', 'DefaultValue': 1},\n",
       "  {'Name': 'ModelApprovalStatus',\n",
       "   'Type': 'String',\n",
       "   'DefaultValue': 'PendingManualApproval'},\n",
       "  {'Name': 'TestScoreThreshold', 'Type': 'Float', 'DefaultValue': 0.75},\n",
       "  {'Name': 'InputDataUrl',\n",
       "   'Type': 'String',\n",
       "   'DefaultValue': 's3://sagemaker-us-east-1-598716374401/from-idea-to-prod/xgboost/input/bank-additional-full.csv'}],\n",
       " 'PipelineExperimentConfig': {'ExperimentName': {'Get': 'Execution.PipelineName'},\n",
       "  'TrialName': {'Get': 'Execution.PipelineExecutionId'}},\n",
       " 'Steps': [{'Name': 'from-idea-to-prod-pipeline-preprocess',\n",
       "   'Type': 'Processing',\n",
       "   'Arguments': {'ProcessingJobName': 'from-idea-to-prod-pipeline-preprocess',\n",
       "    'ProcessingResources': {'ClusterConfig': {'InstanceType': {'Get': 'Parameters.ProcessingInstanceType'},\n",
       "      'InstanceCount': 1,\n",
       "      'VolumeSizeInGB': 30}},\n",
       "    'AppSpecification': {'ImageUri': '683313688378.dkr.ecr.us-east-1.amazonaws.com/sagemaker-scikit-learn:0.23-1-cpu-py3',\n",
       "     'ContainerEntrypoint': ['python3',\n",
       "      '/opt/ml/processing/input/code/preprocessing.py']},\n",
       "    'RoleArn': 'arn:aws:iam::598716374401:role/service-role/AmazonSageMaker-ExecutionRole-20240304T002040',\n",
       "    'ProcessingInputs': [{'InputName': 'input-1',\n",
       "      'AppManaged': False,\n",
       "      'S3Input': {'S3Uri': {'Get': 'Parameters.InputDataUrl'},\n",
       "       'LocalPath': '/opt/ml/processing/input',\n",
       "       'S3DataType': 'S3Prefix',\n",
       "       'S3InputMode': 'File',\n",
       "       'S3DataDistributionType': 'FullyReplicated',\n",
       "       'S3CompressionType': 'None'}},\n",
       "     {'InputName': 'code',\n",
       "      'AppManaged': False,\n",
       "      'S3Input': {'S3Uri': 's3://sagemaker-us-east-1-598716374401/from-idea-to-prod-pipeline/code/a500940804f61c7db4708cf841965694/preprocessing.py',\n",
       "       'LocalPath': '/opt/ml/processing/input/code',\n",
       "       'S3DataType': 'S3Prefix',\n",
       "       'S3InputMode': 'File',\n",
       "       'S3DataDistributionType': 'FullyReplicated',\n",
       "       'S3CompressionType': 'None'}}],\n",
       "    'ProcessingOutputConfig': {'Outputs': [{'OutputName': 'train_data',\n",
       "       'AppManaged': False,\n",
       "       'S3Output': {'S3Uri': 's3://sagemaker-us-east-1-598716374401/from-idea-to-prod/xgboost/train',\n",
       "        'LocalPath': '/opt/ml/processing/output/train',\n",
       "        'S3UploadMode': 'EndOfJob'}},\n",
       "      {'OutputName': 'validation_data',\n",
       "       'AppManaged': False,\n",
       "       'S3Output': {'S3Uri': 's3://sagemaker-us-east-1-598716374401/from-idea-to-prod/xgboost/validation',\n",
       "        'LocalPath': '/opt/ml/processing/output/validation',\n",
       "        'S3UploadMode': 'EndOfJob'}},\n",
       "      {'OutputName': 'test_data',\n",
       "       'AppManaged': False,\n",
       "       'S3Output': {'S3Uri': 's3://sagemaker-us-east-1-598716374401/from-idea-to-prod/xgboost/test',\n",
       "        'LocalPath': '/opt/ml/processing/output/test',\n",
       "        'S3UploadMode': 'EndOfJob'}},\n",
       "      {'OutputName': 'baseline_data',\n",
       "       'AppManaged': False,\n",
       "       'S3Output': {'S3Uri': 's3://sagemaker-us-east-1-598716374401/from-idea-to-prod/xgboost/baseline',\n",
       "        'LocalPath': '/opt/ml/processing/output/baseline',\n",
       "        'S3UploadMode': 'EndOfJob'}}]}}},\n",
       "  {'Name': 'from-idea-to-prod-pipeline-train',\n",
       "   'Type': 'Training',\n",
       "   'Arguments': {'AlgorithmSpecification': {'TrainingInputMode': 'File',\n",
       "     'TrainingImage': '683313688378.dkr.ecr.us-east-1.amazonaws.com/sagemaker-xgboost:1.5-1'},\n",
       "    'OutputDataConfig': {'S3OutputPath': 's3://sagemaker-us-east-1-598716374401/from-idea-to-prod/xgboost/output'},\n",
       "    'TrainingJobName': 'from-idea-to-prod-pipeline-train',\n",
       "    'StoppingCondition': {'MaxRuntimeInSeconds': 86400},\n",
       "    'ResourceConfig': {'VolumeSizeInGB': 30,\n",
       "     'InstanceCount': {'Get': 'Parameters.TrainingInstanceCount'},\n",
       "     'InstanceType': {'Get': 'Parameters.TrainingInstanceType'}},\n",
       "    'RoleArn': 'arn:aws:iam::598716374401:role/service-role/AmazonSageMaker-ExecutionRole-20240304T002040',\n",
       "    'InputDataConfig': [{'DataSource': {'S3DataSource': {'S3DataType': 'S3Prefix',\n",
       "        'S3Uri': {'Get': \"Steps.from-idea-to-prod-pipeline-preprocess.ProcessingOutputConfig.Outputs['train_data'].S3Output.S3Uri\"},\n",
       "        'S3DataDistributionType': 'FullyReplicated'}},\n",
       "      'ContentType': 'text/csv',\n",
       "      'ChannelName': 'train'},\n",
       "     {'DataSource': {'S3DataSource': {'S3DataType': 'S3Prefix',\n",
       "        'S3Uri': {'Get': \"Steps.from-idea-to-prod-pipeline-preprocess.ProcessingOutputConfig.Outputs['validation_data'].S3Output.S3Uri\"},\n",
       "        'S3DataDistributionType': 'FullyReplicated'}},\n",
       "      'ContentType': 'text/csv',\n",
       "      'ChannelName': 'validation'}],\n",
       "    'HyperParameters': {'num_round': '150',\n",
       "     'max_depth': '5',\n",
       "     'eta': '0.5',\n",
       "     'alpha': '2.5',\n",
       "     'objective': 'binary:logistic',\n",
       "     'eval_metric': 'auc',\n",
       "     'subsample': '0.8',\n",
       "     'colsample_bytree': '0.8',\n",
       "     'min_child_weight': '3',\n",
       "     'early_stopping_rounds': '10',\n",
       "     'verbosity': '1'},\n",
       "    'DebugHookConfig': {'S3OutputPath': 's3://sagemaker-us-east-1-598716374401/from-idea-to-prod/xgboost/output',\n",
       "     'CollectionConfigurations': []},\n",
       "    'ProfilerConfig': {'S3OutputPath': 's3://sagemaker-us-east-1-598716374401/from-idea-to-prod/xgboost/output',\n",
       "     'DisableProfiler': False}}},\n",
       "  {'Name': 'from-idea-to-prod-pipeline-evaluate',\n",
       "   'Type': 'Processing',\n",
       "   'Arguments': {'ProcessingJobName': 'from-idea-to-prod-pipeline-evaluate',\n",
       "    'ProcessingResources': {'ClusterConfig': {'InstanceType': {'Get': 'Parameters.ProcessingInstanceType'},\n",
       "      'InstanceCount': 1,\n",
       "      'VolumeSizeInGB': 30}},\n",
       "    'AppSpecification': {'ImageUri': '683313688378.dkr.ecr.us-east-1.amazonaws.com/sagemaker-xgboost:1.5-1',\n",
       "     'ContainerEntrypoint': ['python3',\n",
       "      '/opt/ml/processing/input/code/evaluation.py']},\n",
       "    'RoleArn': 'arn:aws:iam::598716374401:role/service-role/AmazonSageMaker-ExecutionRole-20240304T002040',\n",
       "    'ProcessingInputs': [{'InputName': 'input-1',\n",
       "      'AppManaged': False,\n",
       "      'S3Input': {'S3Uri': {'Get': 'Steps.from-idea-to-prod-pipeline-train.ModelArtifacts.S3ModelArtifacts'},\n",
       "       'LocalPath': '/opt/ml/processing/model',\n",
       "       'S3DataType': 'S3Prefix',\n",
       "       'S3InputMode': 'File',\n",
       "       'S3DataDistributionType': 'FullyReplicated',\n",
       "       'S3CompressionType': 'None'}},\n",
       "     {'InputName': 'input-2',\n",
       "      'AppManaged': False,\n",
       "      'S3Input': {'S3Uri': {'Get': \"Steps.from-idea-to-prod-pipeline-preprocess.ProcessingOutputConfig.Outputs['test_data'].S3Output.S3Uri\"},\n",
       "       'LocalPath': '/opt/ml/processing/test',\n",
       "       'S3DataType': 'S3Prefix',\n",
       "       'S3InputMode': 'File',\n",
       "       'S3DataDistributionType': 'FullyReplicated',\n",
       "       'S3CompressionType': 'None'}},\n",
       "     {'InputName': 'code',\n",
       "      'AppManaged': False,\n",
       "      'S3Input': {'S3Uri': 's3://sagemaker-us-east-1-598716374401/from-idea-to-prod-pipeline/code/6ee5fd90de145d53d58ad9299728f46d/evaluation.py',\n",
       "       'LocalPath': '/opt/ml/processing/input/code',\n",
       "       'S3DataType': 'S3Prefix',\n",
       "       'S3InputMode': 'File',\n",
       "       'S3DataDistributionType': 'FullyReplicated',\n",
       "       'S3CompressionType': 'None'}}],\n",
       "    'ProcessingOutputConfig': {'Outputs': [{'OutputName': 'evaluation',\n",
       "       'AppManaged': False,\n",
       "       'S3Output': {'S3Uri': 's3://sagemaker-us-east-1-598716374401/from-idea-to-prod/xgboost/evaluation',\n",
       "        'LocalPath': '/opt/ml/processing/evaluation',\n",
       "        'S3UploadMode': 'EndOfJob'}},\n",
       "      {'OutputName': 'prediction_baseline_data',\n",
       "       'AppManaged': False,\n",
       "       'S3Output': {'S3Uri': 's3://sagemaker-us-east-1-598716374401/from-idea-to-prod/xgboost/prediction_baseline',\n",
       "        'LocalPath': '/opt/ml/processing/output/prediction_baseline',\n",
       "        'S3UploadMode': 'EndOfJob'}}]}},\n",
       "   'PropertyFiles': [{'PropertyFileName': 'ModelEvaluationReport',\n",
       "     'OutputName': 'evaluation',\n",
       "     'FilePath': 'evaluation.json'}]},\n",
       "  {'Name': 'from-idea-to-prod-pipeline-check-test-score',\n",
       "   'Type': 'Condition',\n",
       "   'Arguments': {'Conditions': [{'Type': 'GreaterThan',\n",
       "      'LeftValue': {'Std:JsonGet': {'PropertyFile': {'Get': 'Steps.from-idea-to-prod-pipeline-evaluate.PropertyFiles.ModelEvaluationReport'},\n",
       "        'Path': 'classification_metrics.auc_score.value'}},\n",
       "      'RightValue': {'Get': 'Parameters.TestScoreThreshold'}}],\n",
       "    'IfSteps': [{'Name': 'from-idea-to-prod-pipeline-register-RegisterModel',\n",
       "      'Type': 'RegisterModel',\n",
       "      'Arguments': {'ModelPackageGroupName': 'from-idea-to-prod-model-group',\n",
       "       'ModelMetrics': {'ModelQuality': {'Statistics': {'ContentType': 'application/json',\n",
       "          'S3Uri': 's3://sagemaker-us-east-1-598716374401/from-idea-to-prod/xgboost/evaluation/evaluation.json'}},\n",
       "        'Bias': {},\n",
       "        'Explainability': {}},\n",
       "       'InferenceSpecification': {'Containers': [{'Image': '683313688378.dkr.ecr.us-east-1.amazonaws.com/sagemaker-xgboost:1.5-1',\n",
       "          'Environment': {},\n",
       "          'ModelDataUrl': {'Get': 'Steps.from-idea-to-prod-pipeline-train.ModelArtifacts.S3ModelArtifacts'}}],\n",
       "        'SupportedContentTypes': ['text/csv'],\n",
       "        'SupportedResponseMIMETypes': ['text/csv'],\n",
       "        'SupportedRealtimeInferenceInstanceTypes': ['ml.t2.medium',\n",
       "         'ml.m5.xlarge',\n",
       "         'ml.m5.large'],\n",
       "        'SupportedTransformInstanceTypes': ['ml.m5.xlarge', 'ml.m5.large']},\n",
       "       'ModelApprovalStatus': {'Get': 'Parameters.ModelApprovalStatus'},\n",
       "       'SkipModelValidation': 'None'}}],\n",
       "    'ElseSteps': [{'Name': 'from-idea-to-prod-pipeline-fail',\n",
       "      'Type': 'Fail',\n",
       "      'Arguments': {'ErrorMessage': {'Std:Join': {'On': ' ',\n",
       "         'Values': ['Execution failed due to AUC Score >',\n",
       "          {'Get': 'Parameters.TestScoreThreshold'}]}}}}]}}]}"
      ]
     },
     "execution_count": 26,
     "metadata": {},
     "output_type": "execute_result"
    }
   ],
   "source": [
    "pipeline_definition = json.loads(pipeline.describe()['PipelineDefinition'])\n",
    "pipeline_definition"
   ]
  },
  {
   "cell_type": "markdown",
   "id": "f297037d-a04c-463a-9353-c362fcb3677d",
   "metadata": {},
   "source": [
    "Look at and understand the pipeline definition JSON. For example, you can see, how the pipeline paramemters are defined and how are they used.\n",
    "\n",
    "Definition:\n",
    "```json\n",
    "'Parameters': [{'Name': 'ProcessingInstanceType',\n",
    "   'Type': 'String',\n",
    "   'DefaultValue': 'ml.c5.xlarge'},\n",
    "               ...\n",
    "               ]\n",
    "```\n",
    "\n",
    "Parameter substitution:\n",
    "```json\n",
    "'Arguments': {'ProcessingResources': {'ClusterConfig': {'InstanceType':{'Get':'Parameters.ProcessingInstanceType'}\n",
    "```\n",
    "\n",
    "You can also see that the processing script `preprocessing.py` is automatically uploaded to an Amazon S3 bucket and the S3 url is specified as one of the step's `ProcessingInputs`:\n",
    "```json\n",
    "{'InputName': 'code',\n",
    "      'AppManaged': False,\n",
    "      'S3Input': {'S3Uri': 's3://sagemaker-us-east-1-XXXX/PreprocessData-e5d4c2b08e616c264c9dc5053871519a/input/code/preprocessing.py',\n",
    "       'LocalPath': '/opt/ml/processing/input/code',\n",
    "       'S3DataType': 'S3Prefix',\n",
    "       'S3InputMode': 'File',\n",
    "       'S3DataDistributionType': 'FullyReplicated',\n",
    "       'S3CompressionType': 'None'}}\n",
    "```"
   ]
  },
  {
   "cell_type": "markdown",
   "id": "0c42089e-1ccf-491c-85f1-4c685f5fae07",
   "metadata": {},
   "source": [
    "## Execute the pipeline\n",
    "The following code starts an execution of the pipeline with the specified parameters."
   ]
  },
  {
   "cell_type": "code",
   "execution_count": 27,
   "id": "30569d9c-08b7-4f86-ad86-02771ce47ec7",
   "metadata": {
    "tags": []
   },
   "outputs": [],
   "source": [
    "execution = pipeline.start(\n",
    "    parameters=dict(\n",
    "        ProcessingInstanceType=process_instance_type,\n",
    "        TrainingInstanceType=train_instance_type,\n",
    "        TrainingInstanceCount=train_instance_count,\n",
    "        ModelApprovalStatus=\"PendingManualApproval\",\n",
    "        TestScoreThreshold=0.75,\n",
    "        InputDataUrl=input_s3_url\n",
    "    )\n",
    ")"
   ]
  },
  {
   "cell_type": "code",
   "execution_count": 28,
   "id": "e573b6e4-d905-454e-9d14-6ea1af592279",
   "metadata": {
    "tags": []
   },
   "outputs": [
    {
     "data": {
      "text/plain": [
       "[{'StepName': 'from-idea-to-prod-pipeline-preprocess',\n",
       "  'StartTime': datetime.datetime(2024, 3, 7, 3, 14, 35, 474000, tzinfo=tzlocal()),\n",
       "  'StepStatus': 'Executing',\n",
       "  'AttemptCount': 1,\n",
       "  'Metadata': {'ProcessingJob': {'Arn': 'arn:aws:sagemaker:us-east-1:598716374401:processing-job/from-idea-to-prod-pipeline-preprocess-bhxyfovm0o9e-VyA31C01Ci'}}}]"
      ]
     },
     "execution_count": 28,
     "metadata": {},
     "output_type": "execute_result"
    }
   ],
   "source": [
    "sleep(5)\n",
    "execution.list_steps()"
   ]
  },
  {
   "cell_type": "code",
   "execution_count": null,
   "id": "57742436-a460-4ed8-a79d-131c63261b3b",
   "metadata": {
    "tags": []
   },
   "outputs": [],
   "source": [
    "# Un-comment this call if you want the notebook to wait until the pipeline's execution finished\n",
    "# Execution time of this pipeline is about 13 minutes\n",
    "# execution.wait()"
   ]
  },
  {
   "cell_type": "markdown",
   "id": "8c70ee2a-a099-467a-b13c-85fc567f1e4f",
   "metadata": {},
   "source": [
    "You can follow the pipeline execution in Studio by selecting **Pipelines** in **SageMaker Home**:\n",
    "\n",
    "<img src=\"img/pipelines-widget.png\" width=\"400\"/>\n",
    "\n",
    "Double click on your pipeline name in the list of the pipelines to see the pipeline executions and other data:\n",
    "\n",
    "![](img/pipelines-list.png)\n",
    "\n",
    "After a successful execution you can open the pipeline execution graph and see details for each pipeline step:\n",
    "\n",
    "![](img/pipeline-execution-graph.png)"
   ]
  },
  {
   "cell_type": "markdown",
   "id": "dc25fb32-eaab-4b01-8ccc-a79908afce80",
   "metadata": {},
   "source": [
    "## Batch transform in the pipeline\n",
    "You can integrate a batch transform step using the trained model in the pipeline.\n"
   ]
  },
  {
   "cell_type": "code",
   "execution_count": 29,
   "id": "6848224f-40be-4b84-ba11-78505227444b",
   "metadata": {
    "tags": []
   },
   "outputs": [],
   "source": [
    "from sagemaker.transformer import Transformer\n",
    "from sagemaker.inputs import TransformInput\n",
    "from sagemaker.workflow.steps import TransformStep\n",
    "from sagemaker.inputs import CreateModelInput"
   ]
  },
  {
   "cell_type": "code",
   "execution_count": 30,
   "id": "b91ffaa4-0a71-426b-9379-732cce320bba",
   "metadata": {
    "tags": []
   },
   "outputs": [],
   "source": [
    "# First, create a SageMaker model for the transform\n",
    "model = Model(\n",
    "    image_uri=xgboost_image_uri,        \n",
    "    model_data=step_train.properties.ModelArtifacts.S3ModelArtifacts,\n",
    "    name=f\"from-idea-to-prod-xgboost-model\",\n",
    "    sagemaker_session=session,\n",
    "    role=sm_role,\n",
    ")\n",
    "\n",
    "model_create_args = model.create(instance_type=\"ml.m5.large\", accelerator_type=\"ml.eia1.medium\")\n",
    "\n",
    "# Define create model step\n",
    "step_create_model = ModelStep(\n",
    "    name=f\"{pipeline_name}-model\",\n",
    "    step_args=model_create_args,\n",
    ")"
   ]
  },
  {
   "cell_type": "code",
   "execution_count": 31,
   "id": "7abc7794-bc9e-4019-8d13-cf4d60db1b81",
   "metadata": {
    "tags": []
   },
   "outputs": [],
   "source": [
    "# Use the defined model to create a transformer\n",
    "transformer = Transformer(\n",
    "    model_name=step_create_model.properties.ModelName,\n",
    "    instance_type=\"ml.m5.xlarge\",\n",
    "    instance_count=1,\n",
    "    accept=\"text/csv\",\n",
    "    assemble_with=\"Line\",\n",
    "    output_path=f\"{output_s3_prefix}/transform\",\n",
    "    sagemaker_session=session,\n",
    ")\n",
    "    \n",
    "transform_args = transformer.transform(    \n",
    "    data=step_process.properties.ProcessingOutputConfig.Outputs[\"test_data\"].S3Output.S3Uri,\n",
    "    content_type=\"text/csv\",\n",
    "    split_type=\"Line\", \n",
    ")\n",
    "            \n",
    "# Create the transform step\n",
    "step_transform = TransformStep(\n",
    "    name=f\"{pipeline_name}-transform\", \n",
    "    step_args=transform_args,\n",
    ")"
   ]
  },
  {
   "cell_type": "code",
   "execution_count": 32,
   "id": "0eb20bd3-18af-453b-add0-dcbe4b055dfe",
   "metadata": {
    "tags": []
   },
   "outputs": [],
   "source": [
    "# Add create model, register model, and transform steps to the \"true\" branch of the condition\n",
    "step_cond = ConditionStep(\n",
    "    name=f\"{pipeline_name}-check-test-score\",\n",
    "    conditions=[cond_lte],\n",
    "    if_steps=[step_create_model, step_register, step_transform],\n",
    "    else_steps=[step_fail],\n",
    ")"
   ]
  },
  {
   "cell_type": "code",
   "execution_count": 33,
   "id": "a3b15371-7f8d-4eb5-8a5a-25963433ff34",
   "metadata": {
    "tags": []
   },
   "outputs": [],
   "source": [
    "pipeline_def_config = PipelineDefinitionConfig(use_custom_job_prefix=True)\n",
    "\n",
    "# Create the pipeline\n",
    "pipeline = Pipeline(\n",
    "    name=pipeline_name,\n",
    "    parameters=[\n",
    "        process_instance_type_param,\n",
    "        train_instance_type_param,\n",
    "        train_instance_count_param,\n",
    "        model_approval_status_param,\n",
    "        test_score_threshold_param,\n",
    "        input_s3_url_param,\n",
    "    ],\n",
    "    steps=[step_process, step_train, step_eval, step_cond],\n",
    "    sagemaker_session=session,\n",
    "    pipeline_definition_config=pipeline_def_config,\n",
    ")"
   ]
  },
  {
   "cell_type": "code",
   "execution_count": 34,
   "id": "9b0f2ca7-bf91-421b-bc7e-2775fdf7053f",
   "metadata": {
    "tags": []
   },
   "outputs": [
    {
     "data": {
      "text/plain": [
       "{'PipelineArn': 'arn:aws:sagemaker:us-east-1:598716374401:pipeline/from-idea-to-prod-pipeline',\n",
       " 'ResponseMetadata': {'RequestId': 'd061a92b-f870-4cbf-8d42-cc5bce74b2d9',\n",
       "  'HTTPStatusCode': 200,\n",
       "  'HTTPHeaders': {'x-amzn-requestid': 'd061a92b-f870-4cbf-8d42-cc5bce74b2d9',\n",
       "   'content-type': 'application/x-amz-json-1.1',\n",
       "   'content-length': '94',\n",
       "   'date': 'Thu, 07 Mar 2024 03:27:22 GMT'},\n",
       "  'RetryAttempts': 0}}"
      ]
     },
     "execution_count": 34,
     "metadata": {},
     "output_type": "execute_result"
    }
   ],
   "source": [
    "pipeline.upsert(role_arn=sm_role)"
   ]
  },
  {
   "cell_type": "markdown",
   "id": "7a6dfdbc-af2f-4555-8750-6f4c36e0a981",
   "metadata": {},
   "source": [
    "The new pipeline contains now the steps for creating the model and executing batch transform:\n",
    "![](img/pipeline-graph-with-transform.png)\n",
    "\n",
    "Optionally you can start the new pipeline execution:"
   ]
  },
  {
   "cell_type": "code",
   "execution_count": null,
   "id": "4256e74b-5b20-4b7e-a3a4-55e30342707e",
   "metadata": {
    "tags": []
   },
   "outputs": [],
   "source": [
    "execution = pipeline.start(\n",
    "    parameters=dict(\n",
    "        ProcessingInstanceType=process_instance_type,\n",
    "        TrainingInstanceType=train_instance_type,\n",
    "        TrainingInstanceCount=train_instance_count,\n",
    "        ModelApprovalStatus=\"PendingManualApproval\",\n",
    "        TestScoreThreshold=0.75,\n",
    "        InputDataUrl=input_s3_url\n",
    "    )\n",
    ")"
   ]
  },
  {
   "cell_type": "code",
   "execution_count": null,
   "id": "1d010bf6-36b9-424f-ad90-f43edea0d5b4",
   "metadata": {
    "tags": []
   },
   "outputs": [],
   "source": [
    "sleep(5)\n",
    "execution.list_steps()"
   ]
  },
  {
   "cell_type": "code",
   "execution_count": null,
   "id": "110af47f-ec84-4647-bb5a-0a973d446dda",
   "metadata": {},
   "outputs": [],
   "source": [
    "# Un-comment this call if you want the notebook to wait until the pipeline's execution finished\n",
    "# Execution time of this pipeline is about 17 minutes\n",
    "# execution.wait()"
   ]
  },
  {
   "cell_type": "markdown",
   "id": "98c2ceaf-152a-4754-8ab3-af3db1f741f5",
   "metadata": {
    "tags": []
   },
   "source": [
    "## Optional: Lift-and-shift your Python code to a pipeline with @step decorator\n",
    "One of the useful features of SageMaker is easy conversion of your existing Python code to SageMaker pipelines. You can develop Python functions to implement an ML workflow using SageMaker Python SDK and test all code locally in the notebook. When you want to create a pipeline, you can use a [`@step`](https://sagemaker.readthedocs.io/en/stable/workflows/pipelines/sagemaker.workflow.pipelines.html#step-decorator) decorator to convert Python functions into pipeline steps. Refer to the SageMaker [Developer Guide](https://docs.aws.amazon.com/sagemaker/latest/dg/pipelines-step-decorator-create-pipeline.html) for more details and examples.\n",
    "\n",
    "The following session uses Python functions to implement workflow steps and then `@step` decorator to re-use the function as a pipeline step."
   ]
  },
  {
   "cell_type": "markdown",
   "id": "7719d07f-0ca9-486d-a9f1-0f1d4663cd86",
   "metadata": {},
   "source": [
    "### Configuring defaults for AWS infrastructure\n",
    "You can use YAML configuration file to define the default values that are automatically passed to SageMaker APIs. It's especially convenient when you need to provide static parameters for infrastructure settings, such as VPC ids, Security Groups, KMS keys etc, or work with remote functions.\n",
    "\n",
    "Refer to [Configuring and using defaults with the SageMaker Python SDK](https://sagemaker.readthedocs.io/en/stable/overview.html#configuring-and-using-defaults-with-the-sagemaker-python-sdk) documentation for examples and more details."
   ]
  },
  {
   "cell_type": "code",
   "execution_count": 35,
   "id": "fd10fbf3-55e1-4268-9d61-d936f4174d0f",
   "metadata": {
    "tags": []
   },
   "outputs": [
    {
     "name": "stdout",
     "output_type": "stream",
     "text": [
      "/etc/xdg/sagemaker/config.yaml\n",
      "/root/.config/sagemaker/config.yaml\n"
     ]
    }
   ],
   "source": [
    "# Print default location of configuration files\n",
    "import os\n",
    "from platformdirs import site_config_dir, user_config_dir\n",
    "\n",
    "#Prints the location of the admin config file\n",
    "print(os.path.join(site_config_dir(\"sagemaker\"), \"config.yaml\"))\n",
    "\n",
    "#Prints the location of the user config file\n",
    "print(os.path.join(user_config_dir(\"sagemaker\"), \"config.yaml\"))"
   ]
  },
  {
   "cell_type": "markdown",
   "id": "080919d0-78b8-40e8-9e18-da429c1128a7",
   "metadata": {},
   "source": [
    "The next cell creates a configuration file and sets default values for remote functions. These values are automatically passed to `@step` decorator and you don't need to specify them explicitely. Refer to [Configure your pipeline](https://docs.aws.amazon.com/sagemaker/latest/dg/pipelines-step-decorator-cfg-pipeline.html) in the Developer Guide."
   ]
  },
  {
   "cell_type": "code",
   "execution_count": null,
   "id": "b33320fa-f008-48d0-adbe-82af13a54708",
   "metadata": {
    "tags": []
   },
   "outputs": [],
   "source": [
    "%%writefile config.yaml\n",
    "\n",
    "SchemaVersion: '1.0'\n",
    "SageMaker:\n",
    "    PythonSDK:\n",
    "        Modules:\n",
    "            RemoteFunction:\n",
    "                InstanceType: ml.m5.xlarge\n",
    "                Dependencies: ./requirements.txt\n",
    "                IncludeLocalWorkDir: true\n",
    "                CustomFileFilter:\n",
    "                    IgnoreNamePatterns: # files or directories to ignore\n",
    "                        - \"*.ipynb\" # all notebook files\n",
    "                        - \"*.md\" # all markdown files\n",
    "                        - \"__pycache__\""
   ]
  },
  {
   "cell_type": "code",
   "execution_count": null,
   "id": "41475d62-58e2-4f74-8bbc-2d9a6ece2ed1",
   "metadata": {
    "tags": []
   },
   "outputs": [],
   "source": [
    "# copy the configuration file to user config file location\n",
    "%mkdir -p {user_config_dir(\"sagemaker\")}\n",
    "%cp config.yaml {os.path.join(user_config_dir(\"sagemaker\"), \"config.yaml\")}"
   ]
  },
  {
   "cell_type": "markdown",
   "id": "73346693-b68e-4c9c-935e-1479c499ca33",
   "metadata": {},
   "source": [
    "### Prepare environment"
   ]
  },
  {
   "cell_type": "code",
   "execution_count": null,
   "id": "dca8a63a-2c4f-4cbd-9de6-4550b5710817",
   "metadata": {
    "tags": []
   },
   "outputs": [],
   "source": [
    "# Install xgboost for the local testing of the code\n",
    "%pip install -q xgboost"
   ]
  },
  {
   "cell_type": "markdown",
   "id": "ad4921f4-888d-4129-9921-23925d2fb5ec",
   "metadata": {},
   "source": [
    "Create a `requirement.txt` file for the pipeline environment:"
   ]
  },
  {
   "cell_type": "code",
   "execution_count": null,
   "id": "4b416e96-b3be-43f0-a434-42c05fb1e63b",
   "metadata": {
    "tags": []
   },
   "outputs": [],
   "source": [
    "%%writefile requirements.txt\n",
    "\n",
    "sagemaker\n",
    "xgboost"
   ]
  },
  {
   "cell_type": "markdown",
   "id": "adf153ef-1d32-41a2-8ffc-2da52b0047fb",
   "metadata": {},
   "source": [
    "### Develop and test local code"
   ]
  },
  {
   "cell_type": "code",
   "execution_count": null,
   "id": "6fb5d8d7-5456-4fc2-b667-b0fcf27258a7",
   "metadata": {
    "tags": []
   },
   "outputs": [],
   "source": [
    "# Python function code is in the local files\n",
    "from pipeline_steps.preprocess import preprocess\n",
    "from pipeline_steps.evaluation import evaluate\n",
    "from pipeline_steps.register import register\n",
    "# from pipeline_steps.train import train\n"
   ]
  },
  {
   "cell_type": "code",
   "execution_count": null,
   "id": "1cc57963-63e6-4b9b-a94c-9607e748cbc4",
   "metadata": {
    "tags": []
   },
   "outputs": [],
   "source": [
    "# !pygmentize pipeline_steps/preprocess.py"
   ]
  },
  {
   "cell_type": "code",
   "execution_count": null,
   "id": "d9d7528d-0f1a-4d5b-bfdf-02821c55e6f3",
   "metadata": {
    "tags": []
   },
   "outputs": [],
   "source": [
    "# !pygmentize  pipeline_steps/evaluation.py"
   ]
  },
  {
   "cell_type": "code",
   "execution_count": null,
   "id": "dd32d501-fe4b-46aa-aa25-24017bb6cf25",
   "metadata": {
    "tags": []
   },
   "outputs": [],
   "source": [
    "# !pygmentize  pipeline_steps/register.py"
   ]
  },
  {
   "cell_type": "code",
   "execution_count": null,
   "id": "9c67dc19-d3dc-4f85-b5e1-2fd32df3e190",
   "metadata": {
    "tags": []
   },
   "outputs": [],
   "source": [
    "# check that there is dataset under S3 url\n",
    "!aws s3 ls {input_s3_url}"
   ]
  },
  {
   "cell_type": "code",
   "execution_count": null,
   "id": "ebd12db9-d39f-4ceb-b3ec-0202f2aebd9a",
   "metadata": {
    "tags": []
   },
   "outputs": [],
   "source": [
    "# You can run your Python code locally and verify the corectness before constructing a pipeline\n",
    "r_preprocess = preprocess(\n",
    "    input_s3_url,\n",
    "    output_s3_prefix=output_s3_prefix,\n",
    ")\n",
    "r_preprocess"
   ]
  },
  {
   "cell_type": "code",
   "execution_count": null,
   "id": "7fac2704-ed92-4b5a-b7da-7260294c0cb5",
   "metadata": {
    "tags": []
   },
   "outputs": [],
   "source": [
    "# check that the function generated output\n",
    "!aws s3 ls {output_s3_prefix}/test/"
   ]
  },
  {
   "cell_type": "code",
   "execution_count": null,
   "id": "10753f21-d082-4f4d-9b22-4efae201298d",
   "metadata": {
    "tags": []
   },
   "outputs": [],
   "source": [
    "# get a model tar file S3 url from a previous pipeline execution\n",
    "# you need to wait until the pipeline you created in the previous section completes the training step\n",
    "training_job_name = [s['Metadata'] for s in execution.list_steps() if s['StepName'] == f'{pipeline_name}-train'][0]['TrainingJob']['Arn'].split('/')[1]\n",
    "model_s3_path = boto3.client('sagemaker').describe_training_job(TrainingJobName=training_job_name)['ModelArtifacts']['S3ModelArtifacts']"
   ]
  },
  {
   "cell_type": "code",
   "execution_count": null,
   "id": "17f3140b-7efe-4df6-8caf-f57ac1210a31",
   "metadata": {
    "tags": []
   },
   "outputs": [],
   "source": [
    "# check that the model file is there\n",
    "!aws s3 ls {model_s3_path}"
   ]
  },
  {
   "cell_type": "code",
   "execution_count": null,
   "id": "5d8f3495-cb98-4a09-95f1-f5e4fd555b60",
   "metadata": {},
   "outputs": [],
   "source": [
    "# Run the evaluation code locally\n",
    "r_eval = evaluate(\n",
    "    test_x_data_s3_path=r_preprocess['test_x_data'],\n",
    "    test_y_data_s3_path=r_preprocess['test_y_data'],\n",
    "    model_s3_path=model_s3_path,\n",
    "    output_s3_prefix=output_s3_prefix,\n",
    ")\n",
    "r_eval"
   ]
  },
  {
   "cell_type": "code",
   "execution_count": null,
   "id": "7b64f35b-5b97-4a87-9f22-2769f8751a37",
   "metadata": {
    "tags": []
   },
   "outputs": [],
   "source": [
    "# check that the evaluation function generated output\n",
    "!aws s3 ls {output_s3_prefix}/prediction_baseline/"
   ]
  },
  {
   "cell_type": "code",
   "execution_count": null,
   "id": "bb3cba7f-b40a-4dbb-958a-e2f0c4536fc7",
   "metadata": {
    "tags": []
   },
   "outputs": [],
   "source": [
    "# Run the model register code locally\n",
    "model_package_arn = register(\n",
    "    training_job_name=training_job_name,\n",
    "    model_package_group_name=model_package_group_name,\n",
    "    model_approval_status=model_approval_status,\n",
    "    evaluation_result=r_eval,\n",
    "    output_s3_prefix=output_s3_url,\n",
    ")\n",
    "model_package_arn"
   ]
  },
  {
   "cell_type": "code",
   "execution_count": null,
   "id": "d4730a22-527b-4e8e-9516-32cc9caddf06",
   "metadata": {
    "tags": []
   },
   "outputs": [],
   "source": [
    "# check that a new model version has been registered in the model package group\n",
    "boto3.client('sagemaker').describe_model_package(ModelPackageName=model_package_arn)"
   ]
  },
  {
   "cell_type": "markdown",
   "id": "a2b8ee79-c5e3-42e2-948f-bdbdc929d5c0",
   "metadata": {},
   "source": [
    "### Build a pipeline using @step decorator\n",
    "After local testing you can use the same Python code without any changes to construct a pipeline.\n",
    "\n",
    "The next cell creates pipeline steps. Note, that we use @step-decorated functions (preprocess, evaluate, register) and traditional pipeline steps (train) in the same pipeline and pass data between them."
   ]
  },
  {
   "cell_type": "code",
   "execution_count": null,
   "id": "d4ce8929-dfd1-459d-b9bf-87356a90288c",
   "metadata": {
    "tags": []
   },
   "outputs": [],
   "source": [
    "# preprocess data step\n",
    "processed_data_s3_path = step(preprocess, \n",
    "                              instance_type=process_instance_type_param,\n",
    "                              name=f\"{pipeline_name}-preprocess\")(\n",
    "    data_s3_path=input_s3_url,\n",
    "    output_s3_prefix=output_s3_prefix,\n",
    ")\n",
    "\n",
    "# train step\n",
    "training_inputs = {\n",
    "    \"train\": TrainingInput(\n",
    "        processed_data_s3_path['train_data'],\n",
    "        content_type=\"text/csv\",\n",
    "    ),\n",
    "    \"validation\": TrainingInput(\n",
    "        processed_data_s3_path['validation_data'],\n",
    "        content_type=\"text/csv\",\n",
    "    ),\n",
    "}\n",
    "\n",
    "step_train = TrainingStep(\n",
    "    name=f\"{pipeline_name}-train\",\n",
    "    step_args=estimator.fit(training_inputs)\n",
    ")    \n",
    "\n",
    "# evaluate step\n",
    "eval_result = step(evaluate,\n",
    "                   instance_type=process_instance_type_param,\n",
    "                   name=f\"{pipeline_name}-evaluate\")(\n",
    "    test_x_data_s3_path=processed_data_s3_path['test_x_data'],\n",
    "    test_y_data_s3_path=processed_data_s3_path['test_y_data'],\n",
    "    model_s3_path=step_train.properties.ModelArtifacts.S3ModelArtifacts,\n",
    "    output_s3_prefix=output_s3_prefix\n",
    ")\n",
    "\n",
    "# register step\n",
    "model_package_arn = step(register,\n",
    "                         name=f\"{pipeline_name}-register\")(\n",
    "    training_job_name=step_train.properties.TrainingJobName,\n",
    "    model_package_group_name=model_package_group_name,\n",
    "    model_approval_status=model_approval_status_param,\n",
    "    evaluation_result=eval_result,\n",
    "    output_s3_prefix=output_s3_url,\n",
    ")\n",
    "\n",
    "# fail step\n",
    "step_fail = FailStep(\n",
    "    name=f\"{pipeline_name}-fail\",\n",
    "    error_message=Join(on=\" \", values=[\"Execution failed due to AUC Score >\", test_score_threshold_param]),\n",
    ")\n",
    "\n",
    "# conditionally register step\n",
    "conditionally_register = ConditionStep(\n",
    "    name=f\"{pipeline_name}-check-metrics\",\n",
    "    conditions=[\n",
    "        ConditionGreaterThanOrEqualTo(\n",
    "            left=eval_result['classification_metrics']['auc_score']['value'],  \n",
    "            right=test_score_threshold_param,\n",
    "        )\n",
    "    ],\n",
    "    if_steps=[model_package_arn],\n",
    "    else_steps=[step_fail],\n",
    ")"
   ]
  },
  {
   "cell_type": "markdown",
   "id": "bddfb2a2-9bc0-42ba-9676-c21dee7a854f",
   "metadata": {},
   "source": [
    "To access a step output or pass data between steps you use [`DelayedReturn`](https://sagemaker.readthedocs.io/en/stable/workflows/pipelines/sagemaker.workflow.pipelines.html#sagemaker.workflow.function_step.DelayedReturn) Python SDK class."
   ]
  },
  {
   "cell_type": "markdown",
   "id": "d4252f74-aeea-488b-8628-9dacd566384b",
   "metadata": {
    "tags": []
   },
   "source": [
    "### Create and run a pipeline\n",
    "Now create and run the pipeline. You need to pass only the last step to `Pipeline` constructor. The SDK automatically builds a pipeline DAG based on data dependencies between steps. Refer to the [Developer Guide](https://docs.aws.amazon.com/sagemaker/latest/dg/pipelines-step-decorator-create-pipeline.html#pipelines-step-define-delayed) for more details."
   ]
  },
  {
   "cell_type": "code",
   "execution_count": null,
   "id": "01bdc186-436e-4b49-b322-a3d04b975ce3",
   "metadata": {
    "tags": []
   },
   "outputs": [],
   "source": [
    "last_pipeline_step = conditionally_register\n",
    "\n",
    "pipeline_decorator = Pipeline(\n",
    "    name=f\"{pipeline_name}-decorator\",\n",
    "    parameters=[\n",
    "        process_instance_type_param,\n",
    "        train_instance_type_param,\n",
    "        train_instance_count_param,\n",
    "        model_approval_status_param,\n",
    "        test_score_threshold_param,\n",
    "    ],\n",
    "    steps=[last_pipeline_step]\n",
    ")"
   ]
  },
  {
   "cell_type": "code",
   "execution_count": null,
   "id": "094ec445-a0da-4661-9bbd-eea8e1be45f3",
   "metadata": {
    "tags": []
   },
   "outputs": [],
   "source": [
    "# Upsert operation serialize the function code, arguments, and other artefacts to S3 where it can be accessed during pipeline's runtime\n",
    "pipeline_decorator.upsert(role_arn=sm_role)"
   ]
  },
  {
   "cell_type": "code",
   "execution_count": null,
   "id": "92b84443-b4f4-4f89-8fbb-e813e9b9997b",
   "metadata": {
    "tags": []
   },
   "outputs": [],
   "source": [
    "execution = pipeline_decorator.start()"
   ]
  },
  {
   "cell_type": "code",
   "execution_count": null,
   "id": "f4c501c9-02ba-4910-a42f-1a2398b401e2",
   "metadata": {},
   "outputs": [],
   "source": [
    "execution.describe()\n",
    "execution.wait()\n",
    "execution.list_steps()"
   ]
  },
  {
   "cell_type": "markdown",
   "id": "86481084-68cf-4804-a76a-ab5b078f22e4",
   "metadata": {},
   "source": [
    "### Limitations\n",
    "Be aware of the specific [limitations](https://docs.aws.amazon.com/sagemaker/latest/dg/pipelines-step-decorator-limit.html) when you use `@step` decorator for pipeline steps."
   ]
  },
  {
   "cell_type": "markdown",
   "id": "0749da96-9b82-465c-8328-eecd515d23a7",
   "metadata": {},
   "source": [
    "---"
   ]
  },
  {
   "cell_type": "markdown",
   "id": "9c1eb4e6-6010-49c3-ada7-9935bf8644b8",
   "metadata": {},
   "source": [
    "## Continue with the workshop flow\n",
    "After finishing this lab, you can continue with the step 4 and 5 [notebooks](04-sagemaker-project.ipynb) or go directly to the step 6 [notebook](06-monitoring.ipynb):\n",
    "\n",
    "**Step 4 and 5 notebooks**: Use SageMaker Projects to implement CI/CD automation pipelines for model build and deployment\n",
    "\n",
    "**Step 6 notebooks**: Data and model quality monitoring"
   ]
  },
  {
   "cell_type": "markdown",
   "id": "eaf9dea1-ec92-4a28-8523-31c990c274a4",
   "metadata": {},
   "source": [
    "## Further development ideas for your real-world projects\n",
    "- Add [data quality check](https://docs.aws.amazon.com/sagemaker/latest/dg/build-and-manage-steps.html#step-type-quality-check) and [model explainability](https://docs.aws.amazon.com/sagemaker/latest/dg/build-and-manage-steps.html#step-type-clarify-check) steps. Add model metrics calculated by [SageMaker Clarify](https://docs.aws.amazon.com/sagemaker/latest/dg/clarify-configure-processing-jobs.html) to the model metadata in the model registry\n",
    "- Add event-driven launching of the ML pipeline as soon as a new dataset is uploaded to an Amazon S3 bucket. You can use [Amazon EventBridge integeration](https://docs.aws.amazon.com/sagemaker/latest/dg/pipeline-eventbridge.html#pipeline-eventbridge-schedule) to implement various event-driven workflows\n",
    "- Use a designated IAM execution role for the pipeline execution\n",
    "- Add data encryption by using S3 bucket encryption and AWS KMS keys for container EBS volume encryption"
   ]
  },
  {
   "cell_type": "markdown",
   "id": "7f8f9efc-0920-4077-bd58-9f5514550412",
   "metadata": {},
   "source": [
    "## Additional resources\n",
    "- [Automate Machine Learning Workflows](https://aws.amazon.com/getting-started/hands-on/machine-learning-tutorial-mlops-automate-ml-workflows/)\n",
    "- [Amazon SageMaker Feature Store workshop](https://github.com/aws-samples/amazon-sagemaker-feature-store-end-to-end-workshop)\n",
    "- [Amazon SageMaker Model Building Pipeline](https://github.com/aws/sagemaker-python-sdk/blob/master/doc/amazon_sagemaker_model_building_pipeline.rst)\n",
    "- [MLOPs With SageMaker Pipelines Step Decorator](https://towardsaws.com/mlops-with-sagemaker-pipelines-step-decorator-bb63fce88846)"
   ]
  },
  {
   "cell_type": "markdown",
   "id": "874abcd0-2241-4118-9191-011215b861cd",
   "metadata": {},
   "source": [
    "# Shutdown kernel"
   ]
  },
  {
   "cell_type": "code",
   "execution_count": null,
   "id": "139bfea5-a835-4adc-81f0-e5355bf53a97",
   "metadata": {},
   "outputs": [],
   "source": [
    "%%html\n",
    "\n",
    "<p><b>Shutting down your kernel for this notebook to release resources.</b></p>\n",
    "<button class=\"sm-command-button\" data-commandlinker-command=\"kernelmenu:shutdown\" style=\"display:none;\">Shutdown Kernel</button>\n",
    "        \n",
    "<script>\n",
    "try {\n",
    "    els = document.getElementsByClassName(\"sm-command-button\");\n",
    "    els[0].click();\n",
    "}\n",
    "catch(err) {\n",
    "    // NoOp\n",
    "}    \n",
    "</script>"
   ]
  },
  {
   "cell_type": "code",
   "execution_count": null,
   "id": "9dfc7baf-75d2-43fc-9c23-aadb29b72047",
   "metadata": {},
   "outputs": [],
   "source": []
  }
 ],
 "metadata": {
  "availableInstances": [
   {
    "_defaultOrder": 0,
    "_isFastLaunch": true,
    "category": "General purpose",
    "gpuNum": 0,
    "hideHardwareSpecs": false,
    "memoryGiB": 4,
    "name": "ml.t3.medium",
    "vcpuNum": 2
   },
   {
    "_defaultOrder": 1,
    "_isFastLaunch": false,
    "category": "General purpose",
    "gpuNum": 0,
    "hideHardwareSpecs": false,
    "memoryGiB": 8,
    "name": "ml.t3.large",
    "vcpuNum": 2
   },
   {
    "_defaultOrder": 2,
    "_isFastLaunch": false,
    "category": "General purpose",
    "gpuNum": 0,
    "hideHardwareSpecs": false,
    "memoryGiB": 16,
    "name": "ml.t3.xlarge",
    "vcpuNum": 4
   },
   {
    "_defaultOrder": 3,
    "_isFastLaunch": false,
    "category": "General purpose",
    "gpuNum": 0,
    "hideHardwareSpecs": false,
    "memoryGiB": 32,
    "name": "ml.t3.2xlarge",
    "vcpuNum": 8
   },
   {
    "_defaultOrder": 4,
    "_isFastLaunch": true,
    "category": "General purpose",
    "gpuNum": 0,
    "hideHardwareSpecs": false,
    "memoryGiB": 8,
    "name": "ml.m5.large",
    "vcpuNum": 2
   },
   {
    "_defaultOrder": 5,
    "_isFastLaunch": false,
    "category": "General purpose",
    "gpuNum": 0,
    "hideHardwareSpecs": false,
    "memoryGiB": 16,
    "name": "ml.m5.xlarge",
    "vcpuNum": 4
   },
   {
    "_defaultOrder": 6,
    "_isFastLaunch": false,
    "category": "General purpose",
    "gpuNum": 0,
    "hideHardwareSpecs": false,
    "memoryGiB": 32,
    "name": "ml.m5.2xlarge",
    "vcpuNum": 8
   },
   {
    "_defaultOrder": 7,
    "_isFastLaunch": false,
    "category": "General purpose",
    "gpuNum": 0,
    "hideHardwareSpecs": false,
    "memoryGiB": 64,
    "name": "ml.m5.4xlarge",
    "vcpuNum": 16
   },
   {
    "_defaultOrder": 8,
    "_isFastLaunch": false,
    "category": "General purpose",
    "gpuNum": 0,
    "hideHardwareSpecs": false,
    "memoryGiB": 128,
    "name": "ml.m5.8xlarge",
    "vcpuNum": 32
   },
   {
    "_defaultOrder": 9,
    "_isFastLaunch": false,
    "category": "General purpose",
    "gpuNum": 0,
    "hideHardwareSpecs": false,
    "memoryGiB": 192,
    "name": "ml.m5.12xlarge",
    "vcpuNum": 48
   },
   {
    "_defaultOrder": 10,
    "_isFastLaunch": false,
    "category": "General purpose",
    "gpuNum": 0,
    "hideHardwareSpecs": false,
    "memoryGiB": 256,
    "name": "ml.m5.16xlarge",
    "vcpuNum": 64
   },
   {
    "_defaultOrder": 11,
    "_isFastLaunch": false,
    "category": "General purpose",
    "gpuNum": 0,
    "hideHardwareSpecs": false,
    "memoryGiB": 384,
    "name": "ml.m5.24xlarge",
    "vcpuNum": 96
   },
   {
    "_defaultOrder": 12,
    "_isFastLaunch": false,
    "category": "General purpose",
    "gpuNum": 0,
    "hideHardwareSpecs": false,
    "memoryGiB": 8,
    "name": "ml.m5d.large",
    "vcpuNum": 2
   },
   {
    "_defaultOrder": 13,
    "_isFastLaunch": false,
    "category": "General purpose",
    "gpuNum": 0,
    "hideHardwareSpecs": false,
    "memoryGiB": 16,
    "name": "ml.m5d.xlarge",
    "vcpuNum": 4
   },
   {
    "_defaultOrder": 14,
    "_isFastLaunch": false,
    "category": "General purpose",
    "gpuNum": 0,
    "hideHardwareSpecs": false,
    "memoryGiB": 32,
    "name": "ml.m5d.2xlarge",
    "vcpuNum": 8
   },
   {
    "_defaultOrder": 15,
    "_isFastLaunch": false,
    "category": "General purpose",
    "gpuNum": 0,
    "hideHardwareSpecs": false,
    "memoryGiB": 64,
    "name": "ml.m5d.4xlarge",
    "vcpuNum": 16
   },
   {
    "_defaultOrder": 16,
    "_isFastLaunch": false,
    "category": "General purpose",
    "gpuNum": 0,
    "hideHardwareSpecs": false,
    "memoryGiB": 128,
    "name": "ml.m5d.8xlarge",
    "vcpuNum": 32
   },
   {
    "_defaultOrder": 17,
    "_isFastLaunch": false,
    "category": "General purpose",
    "gpuNum": 0,
    "hideHardwareSpecs": false,
    "memoryGiB": 192,
    "name": "ml.m5d.12xlarge",
    "vcpuNum": 48
   },
   {
    "_defaultOrder": 18,
    "_isFastLaunch": false,
    "category": "General purpose",
    "gpuNum": 0,
    "hideHardwareSpecs": false,
    "memoryGiB": 256,
    "name": "ml.m5d.16xlarge",
    "vcpuNum": 64
   },
   {
    "_defaultOrder": 19,
    "_isFastLaunch": false,
    "category": "General purpose",
    "gpuNum": 0,
    "hideHardwareSpecs": false,
    "memoryGiB": 384,
    "name": "ml.m5d.24xlarge",
    "vcpuNum": 96
   },
   {
    "_defaultOrder": 20,
    "_isFastLaunch": false,
    "category": "General purpose",
    "gpuNum": 0,
    "hideHardwareSpecs": true,
    "memoryGiB": 0,
    "name": "ml.geospatial.interactive",
    "supportedImageNames": [
     "sagemaker-geospatial-v1-0"
    ],
    "vcpuNum": 0
   },
   {
    "_defaultOrder": 21,
    "_isFastLaunch": true,
    "category": "Compute optimized",
    "gpuNum": 0,
    "hideHardwareSpecs": false,
    "memoryGiB": 4,
    "name": "ml.c5.large",
    "vcpuNum": 2
   },
   {
    "_defaultOrder": 22,
    "_isFastLaunch": false,
    "category": "Compute optimized",
    "gpuNum": 0,
    "hideHardwareSpecs": false,
    "memoryGiB": 8,
    "name": "ml.c5.xlarge",
    "vcpuNum": 4
   },
   {
    "_defaultOrder": 23,
    "_isFastLaunch": false,
    "category": "Compute optimized",
    "gpuNum": 0,
    "hideHardwareSpecs": false,
    "memoryGiB": 16,
    "name": "ml.c5.2xlarge",
    "vcpuNum": 8
   },
   {
    "_defaultOrder": 24,
    "_isFastLaunch": false,
    "category": "Compute optimized",
    "gpuNum": 0,
    "hideHardwareSpecs": false,
    "memoryGiB": 32,
    "name": "ml.c5.4xlarge",
    "vcpuNum": 16
   },
   {
    "_defaultOrder": 25,
    "_isFastLaunch": false,
    "category": "Compute optimized",
    "gpuNum": 0,
    "hideHardwareSpecs": false,
    "memoryGiB": 72,
    "name": "ml.c5.9xlarge",
    "vcpuNum": 36
   },
   {
    "_defaultOrder": 26,
    "_isFastLaunch": false,
    "category": "Compute optimized",
    "gpuNum": 0,
    "hideHardwareSpecs": false,
    "memoryGiB": 96,
    "name": "ml.c5.12xlarge",
    "vcpuNum": 48
   },
   {
    "_defaultOrder": 27,
    "_isFastLaunch": false,
    "category": "Compute optimized",
    "gpuNum": 0,
    "hideHardwareSpecs": false,
    "memoryGiB": 144,
    "name": "ml.c5.18xlarge",
    "vcpuNum": 72
   },
   {
    "_defaultOrder": 28,
    "_isFastLaunch": false,
    "category": "Compute optimized",
    "gpuNum": 0,
    "hideHardwareSpecs": false,
    "memoryGiB": 192,
    "name": "ml.c5.24xlarge",
    "vcpuNum": 96
   },
   {
    "_defaultOrder": 29,
    "_isFastLaunch": true,
    "category": "Accelerated computing",
    "gpuNum": 1,
    "hideHardwareSpecs": false,
    "memoryGiB": 16,
    "name": "ml.g4dn.xlarge",
    "vcpuNum": 4
   },
   {
    "_defaultOrder": 30,
    "_isFastLaunch": false,
    "category": "Accelerated computing",
    "gpuNum": 1,
    "hideHardwareSpecs": false,
    "memoryGiB": 32,
    "name": "ml.g4dn.2xlarge",
    "vcpuNum": 8
   },
   {
    "_defaultOrder": 31,
    "_isFastLaunch": false,
    "category": "Accelerated computing",
    "gpuNum": 1,
    "hideHardwareSpecs": false,
    "memoryGiB": 64,
    "name": "ml.g4dn.4xlarge",
    "vcpuNum": 16
   },
   {
    "_defaultOrder": 32,
    "_isFastLaunch": false,
    "category": "Accelerated computing",
    "gpuNum": 1,
    "hideHardwareSpecs": false,
    "memoryGiB": 128,
    "name": "ml.g4dn.8xlarge",
    "vcpuNum": 32
   },
   {
    "_defaultOrder": 33,
    "_isFastLaunch": false,
    "category": "Accelerated computing",
    "gpuNum": 4,
    "hideHardwareSpecs": false,
    "memoryGiB": 192,
    "name": "ml.g4dn.12xlarge",
    "vcpuNum": 48
   },
   {
    "_defaultOrder": 34,
    "_isFastLaunch": false,
    "category": "Accelerated computing",
    "gpuNum": 1,
    "hideHardwareSpecs": false,
    "memoryGiB": 256,
    "name": "ml.g4dn.16xlarge",
    "vcpuNum": 64
   },
   {
    "_defaultOrder": 35,
    "_isFastLaunch": false,
    "category": "Accelerated computing",
    "gpuNum": 1,
    "hideHardwareSpecs": false,
    "memoryGiB": 61,
    "name": "ml.p3.2xlarge",
    "vcpuNum": 8
   },
   {
    "_defaultOrder": 36,
    "_isFastLaunch": false,
    "category": "Accelerated computing",
    "gpuNum": 4,
    "hideHardwareSpecs": false,
    "memoryGiB": 244,
    "name": "ml.p3.8xlarge",
    "vcpuNum": 32
   },
   {
    "_defaultOrder": 37,
    "_isFastLaunch": false,
    "category": "Accelerated computing",
    "gpuNum": 8,
    "hideHardwareSpecs": false,
    "memoryGiB": 488,
    "name": "ml.p3.16xlarge",
    "vcpuNum": 64
   },
   {
    "_defaultOrder": 38,
    "_isFastLaunch": false,
    "category": "Accelerated computing",
    "gpuNum": 8,
    "hideHardwareSpecs": false,
    "memoryGiB": 768,
    "name": "ml.p3dn.24xlarge",
    "vcpuNum": 96
   },
   {
    "_defaultOrder": 39,
    "_isFastLaunch": false,
    "category": "Memory Optimized",
    "gpuNum": 0,
    "hideHardwareSpecs": false,
    "memoryGiB": 16,
    "name": "ml.r5.large",
    "vcpuNum": 2
   },
   {
    "_defaultOrder": 40,
    "_isFastLaunch": false,
    "category": "Memory Optimized",
    "gpuNum": 0,
    "hideHardwareSpecs": false,
    "memoryGiB": 32,
    "name": "ml.r5.xlarge",
    "vcpuNum": 4
   },
   {
    "_defaultOrder": 41,
    "_isFastLaunch": false,
    "category": "Memory Optimized",
    "gpuNum": 0,
    "hideHardwareSpecs": false,
    "memoryGiB": 64,
    "name": "ml.r5.2xlarge",
    "vcpuNum": 8
   },
   {
    "_defaultOrder": 42,
    "_isFastLaunch": false,
    "category": "Memory Optimized",
    "gpuNum": 0,
    "hideHardwareSpecs": false,
    "memoryGiB": 128,
    "name": "ml.r5.4xlarge",
    "vcpuNum": 16
   },
   {
    "_defaultOrder": 43,
    "_isFastLaunch": false,
    "category": "Memory Optimized",
    "gpuNum": 0,
    "hideHardwareSpecs": false,
    "memoryGiB": 256,
    "name": "ml.r5.8xlarge",
    "vcpuNum": 32
   },
   {
    "_defaultOrder": 44,
    "_isFastLaunch": false,
    "category": "Memory Optimized",
    "gpuNum": 0,
    "hideHardwareSpecs": false,
    "memoryGiB": 384,
    "name": "ml.r5.12xlarge",
    "vcpuNum": 48
   },
   {
    "_defaultOrder": 45,
    "_isFastLaunch": false,
    "category": "Memory Optimized",
    "gpuNum": 0,
    "hideHardwareSpecs": false,
    "memoryGiB": 512,
    "name": "ml.r5.16xlarge",
    "vcpuNum": 64
   },
   {
    "_defaultOrder": 46,
    "_isFastLaunch": false,
    "category": "Memory Optimized",
    "gpuNum": 0,
    "hideHardwareSpecs": false,
    "memoryGiB": 768,
    "name": "ml.r5.24xlarge",
    "vcpuNum": 96
   },
   {
    "_defaultOrder": 47,
    "_isFastLaunch": false,
    "category": "Accelerated computing",
    "gpuNum": 1,
    "hideHardwareSpecs": false,
    "memoryGiB": 16,
    "name": "ml.g5.xlarge",
    "vcpuNum": 4
   },
   {
    "_defaultOrder": 48,
    "_isFastLaunch": false,
    "category": "Accelerated computing",
    "gpuNum": 1,
    "hideHardwareSpecs": false,
    "memoryGiB": 32,
    "name": "ml.g5.2xlarge",
    "vcpuNum": 8
   },
   {
    "_defaultOrder": 49,
    "_isFastLaunch": false,
    "category": "Accelerated computing",
    "gpuNum": 1,
    "hideHardwareSpecs": false,
    "memoryGiB": 64,
    "name": "ml.g5.4xlarge",
    "vcpuNum": 16
   },
   {
    "_defaultOrder": 50,
    "_isFastLaunch": false,
    "category": "Accelerated computing",
    "gpuNum": 1,
    "hideHardwareSpecs": false,
    "memoryGiB": 128,
    "name": "ml.g5.8xlarge",
    "vcpuNum": 32
   },
   {
    "_defaultOrder": 51,
    "_isFastLaunch": false,
    "category": "Accelerated computing",
    "gpuNum": 1,
    "hideHardwareSpecs": false,
    "memoryGiB": 256,
    "name": "ml.g5.16xlarge",
    "vcpuNum": 64
   },
   {
    "_defaultOrder": 52,
    "_isFastLaunch": false,
    "category": "Accelerated computing",
    "gpuNum": 4,
    "hideHardwareSpecs": false,
    "memoryGiB": 192,
    "name": "ml.g5.12xlarge",
    "vcpuNum": 48
   },
   {
    "_defaultOrder": 53,
    "_isFastLaunch": false,
    "category": "Accelerated computing",
    "gpuNum": 4,
    "hideHardwareSpecs": false,
    "memoryGiB": 384,
    "name": "ml.g5.24xlarge",
    "vcpuNum": 96
   },
   {
    "_defaultOrder": 54,
    "_isFastLaunch": false,
    "category": "Accelerated computing",
    "gpuNum": 8,
    "hideHardwareSpecs": false,
    "memoryGiB": 768,
    "name": "ml.g5.48xlarge",
    "vcpuNum": 192
   },
   {
    "_defaultOrder": 55,
    "_isFastLaunch": false,
    "category": "Accelerated computing",
    "gpuNum": 8,
    "hideHardwareSpecs": false,
    "memoryGiB": 1152,
    "name": "ml.p4d.24xlarge",
    "vcpuNum": 96
   },
   {
    "_defaultOrder": 56,
    "_isFastLaunch": false,
    "category": "Accelerated computing",
    "gpuNum": 8,
    "hideHardwareSpecs": false,
    "memoryGiB": 1152,
    "name": "ml.p4de.24xlarge",
    "vcpuNum": 96
   },
   {
    "_defaultOrder": 57,
    "_isFastLaunch": false,
    "category": "Accelerated computing",
    "gpuNum": 0,
    "hideHardwareSpecs": false,
    "memoryGiB": 32,
    "name": "ml.trn1.2xlarge",
    "vcpuNum": 8
   },
   {
    "_defaultOrder": 58,
    "_isFastLaunch": false,
    "category": "Accelerated computing",
    "gpuNum": 0,
    "hideHardwareSpecs": false,
    "memoryGiB": 512,
    "name": "ml.trn1.32xlarge",
    "vcpuNum": 128
   },
   {
    "_defaultOrder": 59,
    "_isFastLaunch": false,
    "category": "Accelerated computing",
    "gpuNum": 0,
    "hideHardwareSpecs": false,
    "memoryGiB": 512,
    "name": "ml.trn1n.32xlarge",
    "vcpuNum": 128
   }
  ],
  "instance_type": "ml.t3.medium",
  "kernelspec": {
   "display_name": "Python 3 (Data Science 3.0)",
   "language": "python",
   "name": "python3__SAGEMAKER_INTERNAL__arn:aws:sagemaker:us-east-1:081325390199:image/sagemaker-data-science-310-v1"
  },
  "language_info": {
   "codemirror_mode": {
    "name": "ipython",
    "version": 3
   },
   "file_extension": ".py",
   "mimetype": "text/x-python",
   "name": "python",
   "nbconvert_exporter": "python",
   "pygments_lexer": "ipython3",
   "version": "3.10.6"
  }
 },
 "nbformat": 4,
 "nbformat_minor": 5
}
